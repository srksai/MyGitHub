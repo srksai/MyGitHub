{
 "metadata": {
  "name": "",
  "signature": "sha256:79b506c41d79e1f49610b60a166ee81855a69703ace715a6e4092ad380b1bb83"
 },
 "nbformat": 3,
 "nbformat_minor": 0,
 "worksheets": [
  {
   "cells": [
    {
     "cell_type": "code",
     "collapsed": false,
     "input": [
      "import pandas as PR\n",
      "from collections import Counter\n",
      "import matplotlib"
     ],
     "language": "python",
     "metadata": {},
     "outputs": [],
     "prompt_number": 3
    },
    {
     "cell_type": "code",
     "collapsed": false,
     "input": [
      " %pylab inline"
     ],
     "language": "python",
     "metadata": {},
     "outputs": [
      {
       "output_type": "stream",
       "stream": "stdout",
       "text": [
        "Populating the interactive namespace from numpy and matplotlib\n"
       ]
      }
     ],
     "prompt_number": 4
    },
    {
     "cell_type": "code",
     "collapsed": false,
     "input": [
      "TitanicDF = PR.read_csv(\"train.csv\")"
     ],
     "language": "python",
     "metadata": {},
     "outputs": [],
     "prompt_number": 6
    },
    {
     "cell_type": "code",
     "collapsed": false,
     "input": [
      "TitanicDF.shape"
     ],
     "language": "python",
     "metadata": {},
     "outputs": [
      {
       "metadata": {},
       "output_type": "pyout",
       "prompt_number": 7,
       "text": [
        "(891, 12)"
       ]
      }
     ],
     "prompt_number": 7
    },
    {
     "cell_type": "code",
     "collapsed": false,
     "input": [
      "for i in list(TitanicDF):\n",
      "    print i"
     ],
     "language": "python",
     "metadata": {},
     "outputs": [
      {
       "output_type": "stream",
       "stream": "stdout",
       "text": [
        "PassengerId\n",
        "Survived\n",
        "Pclass\n",
        "Name\n",
        "Sex\n",
        "Age\n",
        "SibSp\n",
        "Parch\n",
        "Ticket\n",
        "Fare\n",
        "Cabin\n",
        "Embarked\n"
       ]
      }
     ],
     "prompt_number": 8
    },
    {
     "cell_type": "markdown",
     "metadata": {},
     "source": [
      "### EDA\n",
      "<li> Is there missing data in each column\n",
      "<li> if missing data, find a way to fill it\n",
      "<li> Is the column continous or categorical data\n",
      "<li> If its continous data, find Min, Max, Mean and Standard Deviation\n",
      "<li> Histograms for the categorical variables"
     ]
    },
    {
     "cell_type": "markdown",
     "metadata": {},
     "source": [
      "###Step 1 - Check for missing values by count for each column"
     ]
    },
    {
     "cell_type": "code",
     "collapsed": false,
     "input": [
      "TitanicDF[TitanicDF.PassengerId.isnull()].shape"
     ],
     "language": "python",
     "metadata": {},
     "outputs": [
      {
       "metadata": {},
       "output_type": "pyout",
       "prompt_number": 9,
       "text": [
        "(0, 12)"
       ]
      }
     ],
     "prompt_number": 9
    },
    {
     "cell_type": "code",
     "collapsed": false,
     "input": [
      "TitanicDF[TitanicDF.Survived.isnull()].shape      "
     ],
     "language": "python",
     "metadata": {},
     "outputs": [
      {
       "metadata": {},
       "output_type": "pyout",
       "prompt_number": 10,
       "text": [
        "(0, 12)"
       ]
      }
     ],
     "prompt_number": 10
    },
    {
     "cell_type": "code",
     "collapsed": false,
     "input": [
      "TitanicDF[TitanicDF.Pclass.isnull()].shape"
     ],
     "language": "python",
     "metadata": {},
     "outputs": [
      {
       "metadata": {},
       "output_type": "pyout",
       "prompt_number": 11,
       "text": [
        "(0, 12)"
       ]
      }
     ],
     "prompt_number": 11
    },
    {
     "cell_type": "code",
     "collapsed": false,
     "input": [
      "TitanicDF[TitanicDF.Name.isnull()].shape"
     ],
     "language": "python",
     "metadata": {},
     "outputs": [
      {
       "metadata": {},
       "output_type": "pyout",
       "prompt_number": 12,
       "text": [
        "(0, 12)"
       ]
      }
     ],
     "prompt_number": 12
    },
    {
     "cell_type": "code",
     "collapsed": false,
     "input": [
      "TitanicDF[TitanicDF.Sex.isnull()].shape"
     ],
     "language": "python",
     "metadata": {},
     "outputs": [
      {
       "metadata": {},
       "output_type": "pyout",
       "prompt_number": 13,
       "text": [
        "(0, 12)"
       ]
      }
     ],
     "prompt_number": 13
    },
    {
     "cell_type": "code",
     "collapsed": false,
     "input": [
      "TitanicDF[TitanicDF.Age.isnull()].shape"
     ],
     "language": "python",
     "metadata": {},
     "outputs": [
      {
       "metadata": {},
       "output_type": "pyout",
       "prompt_number": 14,
       "text": [
        "(177, 12)"
       ]
      }
     ],
     "prompt_number": 14
    },
    {
     "cell_type": "code",
     "collapsed": false,
     "input": [
      "TitanicDF[TitanicDF.SibSp.isnull()].shape"
     ],
     "language": "python",
     "metadata": {},
     "outputs": [
      {
       "metadata": {},
       "output_type": "pyout",
       "prompt_number": 15,
       "text": [
        "(0, 12)"
       ]
      }
     ],
     "prompt_number": 15
    },
    {
     "cell_type": "code",
     "collapsed": false,
     "input": [
      "TitanicDF[TitanicDF.Parch.isnull()].shape"
     ],
     "language": "python",
     "metadata": {},
     "outputs": [
      {
       "metadata": {},
       "output_type": "pyout",
       "prompt_number": 63,
       "text": [
        "(0, 12)"
       ]
      }
     ],
     "prompt_number": 63
    },
    {
     "cell_type": "code",
     "collapsed": false,
     "input": [
      "TitanicDF[TitanicDF.Ticket.isnull()].shape"
     ],
     "language": "python",
     "metadata": {},
     "outputs": [
      {
       "metadata": {},
       "output_type": "pyout",
       "prompt_number": 16,
       "text": [
        "(0, 12)"
       ]
      }
     ],
     "prompt_number": 16
    },
    {
     "cell_type": "code",
     "collapsed": false,
     "input": [
      "TitanicDF[TitanicDF.Fare.isnull()].shape"
     ],
     "language": "python",
     "metadata": {},
     "outputs": [
      {
       "metadata": {},
       "output_type": "pyout",
       "prompt_number": 19,
       "text": [
        "(0, 12)"
       ]
      }
     ],
     "prompt_number": 19
    },
    {
     "cell_type": "code",
     "collapsed": false,
     "input": [
      "TitanicDF[TitanicDF.Cabin.isnull()].shape"
     ],
     "language": "python",
     "metadata": {},
     "outputs": [
      {
       "metadata": {},
       "output_type": "pyout",
       "prompt_number": 22,
       "text": [
        "(687, 12)"
       ]
      }
     ],
     "prompt_number": 22
    },
    {
     "cell_type": "code",
     "collapsed": false,
     "input": [
      "TitanicDF[TitanicDF.Embarked.isnull()].shape"
     ],
     "language": "python",
     "metadata": {},
     "outputs": [
      {
       "metadata": {},
       "output_type": "pyout",
       "prompt_number": 21,
       "text": [
        "(2, 12)"
       ]
      }
     ],
     "prompt_number": 21
    },
    {
     "cell_type": "markdown",
     "metadata": {},
     "source": [
      "## Step 2 - Take care of he missing data. Looks like most columns have no missing data except Age, Cabin and Embarked. Lets do this\n",
      "<li> Find the average age of the passengers and use that as a guide to fill the missing Age\n",
      "<li> Get of the Cabin column because its apparently missing a whopping 687 values from a total of 891.\n",
      "<li> There are only two values missing in the Embarked column. Lets take most occurences of a value for that column and use it to fill up the missing ones"
     ]
    },
    {
     "cell_type": "code",
     "collapsed": false,
     "input": [
      "aveAge = TitanicDF.Age.mean()"
     ],
     "language": "python",
     "metadata": {},
     "outputs": [],
     "prompt_number": 23
    },
    {
     "cell_type": "code",
     "collapsed": false,
     "input": [
      "aveAge"
     ],
     "language": "python",
     "metadata": {},
     "outputs": [
      {
       "metadata": {},
       "output_type": "pyout",
       "prompt_number": 24,
       "text": [
        "29.69911764705882"
       ]
      }
     ],
     "prompt_number": 24
    },
    {
     "cell_type": "code",
     "collapsed": false,
     "input": [
      "TitanicDF.Age = TitanicDF.Age.fillna(value=aveAge)"
     ],
     "language": "python",
     "metadata": {},
     "outputs": [],
     "prompt_number": 25
    },
    {
     "cell_type": "markdown",
     "metadata": {},
     "source": [
      "### Now check if there are missing ages"
     ]
    },
    {
     "cell_type": "code",
     "collapsed": false,
     "input": [
      "TitanicDF[TitanicDF.Age.isnull()].shape"
     ],
     "language": "python",
     "metadata": {},
     "outputs": [
      {
       "metadata": {},
       "output_type": "pyout",
       "prompt_number": 26,
       "text": [
        "(0, 12)"
       ]
      }
     ],
     "prompt_number": 26
    },
    {
     "cell_type": "markdown",
     "metadata": {},
     "source": [
      "### Great, ages are taken care of. Now, lets dump Cabin. Sorry Cabin column"
     ]
    },
    {
     "cell_type": "code",
     "collapsed": false,
     "input": [
      "TitanicDF = TitanicDF.drop(['Cabin'], 1)"
     ],
     "language": "python",
     "metadata": {},
     "outputs": [],
     "prompt_number": 27
    },
    {
     "cell_type": "code",
     "collapsed": false,
     "input": [
      "for i in list(TitanicDF):\n",
      "    print i"
     ],
     "language": "python",
     "metadata": {},
     "outputs": [
      {
       "output_type": "stream",
       "stream": "stdout",
       "text": [
        "PassengerId\n",
        "Survived\n",
        "Pclass\n",
        "Name\n",
        "Sex\n",
        "Age\n",
        "SibSp\n",
        "Parch\n",
        "Ticket\n",
        "Fare\n",
        "Embarked\n"
       ]
      }
     ],
     "prompt_number": 28
    },
    {
     "cell_type": "markdown",
     "metadata": {},
     "source": [
      "### Find the value that has most occurences for the Embarked column and use it for filling the 2 missing items."
     ]
    },
    {
     "cell_type": "code",
     "collapsed": false,
     "input": [
      "uniqueValueCount = Counter(TitanicDF.Embarked.values)"
     ],
     "language": "python",
     "metadata": {},
     "outputs": [],
     "prompt_number": 29
    },
    {
     "cell_type": "code",
     "collapsed": false,
     "input": [
      "uniqueValueCount"
     ],
     "language": "python",
     "metadata": {},
     "outputs": [
      {
       "metadata": {},
       "output_type": "pyout",
       "prompt_number": 30,
       "text": [
        "Counter({'S': 644, 'C': 168, 'Q': 77, nan: 2})"
       ]
      }
     ],
     "prompt_number": 30
    },
    {
     "cell_type": "markdown",
     "metadata": {},
     "source": [
      "### Alright, we have a winner in 'S'. Now, lets fill up the 2 missing ones with S"
     ]
    },
    {
     "cell_type": "code",
     "collapsed": false,
     "input": [
      "TitanicDF.Embarked = TitanicDF.Embarked.fillna(value=\"S\")"
     ],
     "language": "python",
     "metadata": {},
     "outputs": [],
     "prompt_number": 31
    },
    {
     "cell_type": "code",
     "collapsed": false,
     "input": [
      "TitanicDF[TitanicDF.Embarked.isnull()].shape"
     ],
     "language": "python",
     "metadata": {},
     "outputs": [
      {
       "metadata": {},
       "output_type": "pyout",
       "prompt_number": 32,
       "text": [
        "(0, 11)"
       ]
      }
     ],
     "prompt_number": 32
    },
    {
     "cell_type": "markdown",
     "metadata": {},
     "source": [
      "### Step 3 - Continous or Categorical. Lets move onto the third step. Find if each of the column is continous or categorical. We can write something fancy that will determine this by looping through each value and determing if its unique or not, string or number etc. But with only 11 columns left, its easy to take a look at determine if they are categorical or continous. (Maybe there is an easier way in Python to determine it, I have to google it)."
     ]
    },
    {
     "cell_type": "code",
     "collapsed": false,
     "input": [
      "TitanicDF"
     ],
     "language": "python",
     "metadata": {},
     "outputs": [
      {
       "html": [
        "<div style=\"max-height:1000px;max-width:1500px;overflow:auto;\">\n",
        "<table border=\"1\" class=\"dataframe\">\n",
        "  <thead>\n",
        "    <tr style=\"text-align: right;\">\n",
        "      <th></th>\n",
        "      <th>PassengerId</th>\n",
        "      <th>Survived</th>\n",
        "      <th>Pclass</th>\n",
        "      <th>Name</th>\n",
        "      <th>Sex</th>\n",
        "      <th>Age</th>\n",
        "      <th>SibSp</th>\n",
        "      <th>Parch</th>\n",
        "      <th>Ticket</th>\n",
        "      <th>Fare</th>\n",
        "      <th>Embarked</th>\n",
        "    </tr>\n",
        "  </thead>\n",
        "  <tbody>\n",
        "    <tr>\n",
        "      <th>0  </th>\n",
        "      <td>   1</td>\n",
        "      <td> 0</td>\n",
        "      <td> 3</td>\n",
        "      <td>                           Braund, Mr. Owen Harris</td>\n",
        "      <td>   male</td>\n",
        "      <td> 22.000000</td>\n",
        "      <td> 1</td>\n",
        "      <td> 0</td>\n",
        "      <td>        A/5 21171</td>\n",
        "      <td>   7.2500</td>\n",
        "      <td> S</td>\n",
        "    </tr>\n",
        "    <tr>\n",
        "      <th>1  </th>\n",
        "      <td>   2</td>\n",
        "      <td> 1</td>\n",
        "      <td> 1</td>\n",
        "      <td> Cumings, Mrs. John Bradley (Florence Briggs Th...</td>\n",
        "      <td> female</td>\n",
        "      <td> 38.000000</td>\n",
        "      <td> 1</td>\n",
        "      <td> 0</td>\n",
        "      <td>         PC 17599</td>\n",
        "      <td>  71.2833</td>\n",
        "      <td> C</td>\n",
        "    </tr>\n",
        "    <tr>\n",
        "      <th>2  </th>\n",
        "      <td>   3</td>\n",
        "      <td> 1</td>\n",
        "      <td> 3</td>\n",
        "      <td>                            Heikkinen, Miss. Laina</td>\n",
        "      <td> female</td>\n",
        "      <td> 26.000000</td>\n",
        "      <td> 0</td>\n",
        "      <td> 0</td>\n",
        "      <td> STON/O2. 3101282</td>\n",
        "      <td>   7.9250</td>\n",
        "      <td> S</td>\n",
        "    </tr>\n",
        "    <tr>\n",
        "      <th>3  </th>\n",
        "      <td>   4</td>\n",
        "      <td> 1</td>\n",
        "      <td> 1</td>\n",
        "      <td>      Futrelle, Mrs. Jacques Heath (Lily May Peel)</td>\n",
        "      <td> female</td>\n",
        "      <td> 35.000000</td>\n",
        "      <td> 1</td>\n",
        "      <td> 0</td>\n",
        "      <td>           113803</td>\n",
        "      <td>  53.1000</td>\n",
        "      <td> S</td>\n",
        "    </tr>\n",
        "    <tr>\n",
        "      <th>4  </th>\n",
        "      <td>   5</td>\n",
        "      <td> 0</td>\n",
        "      <td> 3</td>\n",
        "      <td>                          Allen, Mr. William Henry</td>\n",
        "      <td>   male</td>\n",
        "      <td> 35.000000</td>\n",
        "      <td> 0</td>\n",
        "      <td> 0</td>\n",
        "      <td>           373450</td>\n",
        "      <td>   8.0500</td>\n",
        "      <td> S</td>\n",
        "    </tr>\n",
        "    <tr>\n",
        "      <th>5  </th>\n",
        "      <td>   6</td>\n",
        "      <td> 0</td>\n",
        "      <td> 3</td>\n",
        "      <td>                                  Moran, Mr. James</td>\n",
        "      <td>   male</td>\n",
        "      <td> 29.699118</td>\n",
        "      <td> 0</td>\n",
        "      <td> 0</td>\n",
        "      <td>           330877</td>\n",
        "      <td>   8.4583</td>\n",
        "      <td> Q</td>\n",
        "    </tr>\n",
        "    <tr>\n",
        "      <th>6  </th>\n",
        "      <td>   7</td>\n",
        "      <td> 0</td>\n",
        "      <td> 1</td>\n",
        "      <td>                           McCarthy, Mr. Timothy J</td>\n",
        "      <td>   male</td>\n",
        "      <td> 54.000000</td>\n",
        "      <td> 0</td>\n",
        "      <td> 0</td>\n",
        "      <td>            17463</td>\n",
        "      <td>  51.8625</td>\n",
        "      <td> S</td>\n",
        "    </tr>\n",
        "    <tr>\n",
        "      <th>7  </th>\n",
        "      <td>   8</td>\n",
        "      <td> 0</td>\n",
        "      <td> 3</td>\n",
        "      <td>                    Palsson, Master. Gosta Leonard</td>\n",
        "      <td>   male</td>\n",
        "      <td>  2.000000</td>\n",
        "      <td> 3</td>\n",
        "      <td> 1</td>\n",
        "      <td>           349909</td>\n",
        "      <td>  21.0750</td>\n",
        "      <td> S</td>\n",
        "    </tr>\n",
        "    <tr>\n",
        "      <th>8  </th>\n",
        "      <td>   9</td>\n",
        "      <td> 1</td>\n",
        "      <td> 3</td>\n",
        "      <td> Johnson, Mrs. Oscar W (Elisabeth Vilhelmina Berg)</td>\n",
        "      <td> female</td>\n",
        "      <td> 27.000000</td>\n",
        "      <td> 0</td>\n",
        "      <td> 2</td>\n",
        "      <td>           347742</td>\n",
        "      <td>  11.1333</td>\n",
        "      <td> S</td>\n",
        "    </tr>\n",
        "    <tr>\n",
        "      <th>9  </th>\n",
        "      <td>  10</td>\n",
        "      <td> 1</td>\n",
        "      <td> 2</td>\n",
        "      <td>               Nasser, Mrs. Nicholas (Adele Achem)</td>\n",
        "      <td> female</td>\n",
        "      <td> 14.000000</td>\n",
        "      <td> 1</td>\n",
        "      <td> 0</td>\n",
        "      <td>           237736</td>\n",
        "      <td>  30.0708</td>\n",
        "      <td> C</td>\n",
        "    </tr>\n",
        "    <tr>\n",
        "      <th>10 </th>\n",
        "      <td>  11</td>\n",
        "      <td> 1</td>\n",
        "      <td> 3</td>\n",
        "      <td>                   Sandstrom, Miss. Marguerite Rut</td>\n",
        "      <td> female</td>\n",
        "      <td>  4.000000</td>\n",
        "      <td> 1</td>\n",
        "      <td> 1</td>\n",
        "      <td>          PP 9549</td>\n",
        "      <td>  16.7000</td>\n",
        "      <td> S</td>\n",
        "    </tr>\n",
        "    <tr>\n",
        "      <th>11 </th>\n",
        "      <td>  12</td>\n",
        "      <td> 1</td>\n",
        "      <td> 1</td>\n",
        "      <td>                          Bonnell, Miss. Elizabeth</td>\n",
        "      <td> female</td>\n",
        "      <td> 58.000000</td>\n",
        "      <td> 0</td>\n",
        "      <td> 0</td>\n",
        "      <td>           113783</td>\n",
        "      <td>  26.5500</td>\n",
        "      <td> S</td>\n",
        "    </tr>\n",
        "    <tr>\n",
        "      <th>12 </th>\n",
        "      <td>  13</td>\n",
        "      <td> 0</td>\n",
        "      <td> 3</td>\n",
        "      <td>                    Saundercock, Mr. William Henry</td>\n",
        "      <td>   male</td>\n",
        "      <td> 20.000000</td>\n",
        "      <td> 0</td>\n",
        "      <td> 0</td>\n",
        "      <td>        A/5. 2151</td>\n",
        "      <td>   8.0500</td>\n",
        "      <td> S</td>\n",
        "    </tr>\n",
        "    <tr>\n",
        "      <th>13 </th>\n",
        "      <td>  14</td>\n",
        "      <td> 0</td>\n",
        "      <td> 3</td>\n",
        "      <td>                       Andersson, Mr. Anders Johan</td>\n",
        "      <td>   male</td>\n",
        "      <td> 39.000000</td>\n",
        "      <td> 1</td>\n",
        "      <td> 5</td>\n",
        "      <td>           347082</td>\n",
        "      <td>  31.2750</td>\n",
        "      <td> S</td>\n",
        "    </tr>\n",
        "    <tr>\n",
        "      <th>14 </th>\n",
        "      <td>  15</td>\n",
        "      <td> 0</td>\n",
        "      <td> 3</td>\n",
        "      <td>              Vestrom, Miss. Hulda Amanda Adolfina</td>\n",
        "      <td> female</td>\n",
        "      <td> 14.000000</td>\n",
        "      <td> 0</td>\n",
        "      <td> 0</td>\n",
        "      <td>           350406</td>\n",
        "      <td>   7.8542</td>\n",
        "      <td> S</td>\n",
        "    </tr>\n",
        "    <tr>\n",
        "      <th>15 </th>\n",
        "      <td>  16</td>\n",
        "      <td> 1</td>\n",
        "      <td> 2</td>\n",
        "      <td>                  Hewlett, Mrs. (Mary D Kingcome) </td>\n",
        "      <td> female</td>\n",
        "      <td> 55.000000</td>\n",
        "      <td> 0</td>\n",
        "      <td> 0</td>\n",
        "      <td>           248706</td>\n",
        "      <td>  16.0000</td>\n",
        "      <td> S</td>\n",
        "    </tr>\n",
        "    <tr>\n",
        "      <th>16 </th>\n",
        "      <td>  17</td>\n",
        "      <td> 0</td>\n",
        "      <td> 3</td>\n",
        "      <td>                              Rice, Master. Eugene</td>\n",
        "      <td>   male</td>\n",
        "      <td>  2.000000</td>\n",
        "      <td> 4</td>\n",
        "      <td> 1</td>\n",
        "      <td>           382652</td>\n",
        "      <td>  29.1250</td>\n",
        "      <td> Q</td>\n",
        "    </tr>\n",
        "    <tr>\n",
        "      <th>17 </th>\n",
        "      <td>  18</td>\n",
        "      <td> 1</td>\n",
        "      <td> 2</td>\n",
        "      <td>                      Williams, Mr. Charles Eugene</td>\n",
        "      <td>   male</td>\n",
        "      <td> 29.699118</td>\n",
        "      <td> 0</td>\n",
        "      <td> 0</td>\n",
        "      <td>           244373</td>\n",
        "      <td>  13.0000</td>\n",
        "      <td> S</td>\n",
        "    </tr>\n",
        "    <tr>\n",
        "      <th>18 </th>\n",
        "      <td>  19</td>\n",
        "      <td> 0</td>\n",
        "      <td> 3</td>\n",
        "      <td> Vander Planke, Mrs. Julius (Emelia Maria Vande...</td>\n",
        "      <td> female</td>\n",
        "      <td> 31.000000</td>\n",
        "      <td> 1</td>\n",
        "      <td> 0</td>\n",
        "      <td>           345763</td>\n",
        "      <td>  18.0000</td>\n",
        "      <td> S</td>\n",
        "    </tr>\n",
        "    <tr>\n",
        "      <th>19 </th>\n",
        "      <td>  20</td>\n",
        "      <td> 1</td>\n",
        "      <td> 3</td>\n",
        "      <td>                           Masselmani, Mrs. Fatima</td>\n",
        "      <td> female</td>\n",
        "      <td> 29.699118</td>\n",
        "      <td> 0</td>\n",
        "      <td> 0</td>\n",
        "      <td>             2649</td>\n",
        "      <td>   7.2250</td>\n",
        "      <td> C</td>\n",
        "    </tr>\n",
        "    <tr>\n",
        "      <th>20 </th>\n",
        "      <td>  21</td>\n",
        "      <td> 0</td>\n",
        "      <td> 2</td>\n",
        "      <td>                              Fynney, Mr. Joseph J</td>\n",
        "      <td>   male</td>\n",
        "      <td> 35.000000</td>\n",
        "      <td> 0</td>\n",
        "      <td> 0</td>\n",
        "      <td>           239865</td>\n",
        "      <td>  26.0000</td>\n",
        "      <td> S</td>\n",
        "    </tr>\n",
        "    <tr>\n",
        "      <th>21 </th>\n",
        "      <td>  22</td>\n",
        "      <td> 1</td>\n",
        "      <td> 2</td>\n",
        "      <td>                             Beesley, Mr. Lawrence</td>\n",
        "      <td>   male</td>\n",
        "      <td> 34.000000</td>\n",
        "      <td> 0</td>\n",
        "      <td> 0</td>\n",
        "      <td>           248698</td>\n",
        "      <td>  13.0000</td>\n",
        "      <td> S</td>\n",
        "    </tr>\n",
        "    <tr>\n",
        "      <th>22 </th>\n",
        "      <td>  23</td>\n",
        "      <td> 1</td>\n",
        "      <td> 3</td>\n",
        "      <td>                       McGowan, Miss. Anna \"Annie\"</td>\n",
        "      <td> female</td>\n",
        "      <td> 15.000000</td>\n",
        "      <td> 0</td>\n",
        "      <td> 0</td>\n",
        "      <td>           330923</td>\n",
        "      <td>   8.0292</td>\n",
        "      <td> Q</td>\n",
        "    </tr>\n",
        "    <tr>\n",
        "      <th>23 </th>\n",
        "      <td>  24</td>\n",
        "      <td> 1</td>\n",
        "      <td> 1</td>\n",
        "      <td>                      Sloper, Mr. William Thompson</td>\n",
        "      <td>   male</td>\n",
        "      <td> 28.000000</td>\n",
        "      <td> 0</td>\n",
        "      <td> 0</td>\n",
        "      <td>           113788</td>\n",
        "      <td>  35.5000</td>\n",
        "      <td> S</td>\n",
        "    </tr>\n",
        "    <tr>\n",
        "      <th>24 </th>\n",
        "      <td>  25</td>\n",
        "      <td> 0</td>\n",
        "      <td> 3</td>\n",
        "      <td>                     Palsson, Miss. Torborg Danira</td>\n",
        "      <td> female</td>\n",
        "      <td>  8.000000</td>\n",
        "      <td> 3</td>\n",
        "      <td> 1</td>\n",
        "      <td>           349909</td>\n",
        "      <td>  21.0750</td>\n",
        "      <td> S</td>\n",
        "    </tr>\n",
        "    <tr>\n",
        "      <th>25 </th>\n",
        "      <td>  26</td>\n",
        "      <td> 1</td>\n",
        "      <td> 3</td>\n",
        "      <td> Asplund, Mrs. Carl Oscar (Selma Augusta Emilia...</td>\n",
        "      <td> female</td>\n",
        "      <td> 38.000000</td>\n",
        "      <td> 1</td>\n",
        "      <td> 5</td>\n",
        "      <td>           347077</td>\n",
        "      <td>  31.3875</td>\n",
        "      <td> S</td>\n",
        "    </tr>\n",
        "    <tr>\n",
        "      <th>26 </th>\n",
        "      <td>  27</td>\n",
        "      <td> 0</td>\n",
        "      <td> 3</td>\n",
        "      <td>                           Emir, Mr. Farred Chehab</td>\n",
        "      <td>   male</td>\n",
        "      <td> 29.699118</td>\n",
        "      <td> 0</td>\n",
        "      <td> 0</td>\n",
        "      <td>             2631</td>\n",
        "      <td>   7.2250</td>\n",
        "      <td> C</td>\n",
        "    </tr>\n",
        "    <tr>\n",
        "      <th>27 </th>\n",
        "      <td>  28</td>\n",
        "      <td> 0</td>\n",
        "      <td> 1</td>\n",
        "      <td>                    Fortune, Mr. Charles Alexander</td>\n",
        "      <td>   male</td>\n",
        "      <td> 19.000000</td>\n",
        "      <td> 3</td>\n",
        "      <td> 2</td>\n",
        "      <td>            19950</td>\n",
        "      <td> 263.0000</td>\n",
        "      <td> S</td>\n",
        "    </tr>\n",
        "    <tr>\n",
        "      <th>28 </th>\n",
        "      <td>  29</td>\n",
        "      <td> 1</td>\n",
        "      <td> 3</td>\n",
        "      <td>                     O'Dwyer, Miss. Ellen \"Nellie\"</td>\n",
        "      <td> female</td>\n",
        "      <td> 29.699118</td>\n",
        "      <td> 0</td>\n",
        "      <td> 0</td>\n",
        "      <td>           330959</td>\n",
        "      <td>   7.8792</td>\n",
        "      <td> Q</td>\n",
        "    </tr>\n",
        "    <tr>\n",
        "      <th>29 </th>\n",
        "      <td>  30</td>\n",
        "      <td> 0</td>\n",
        "      <td> 3</td>\n",
        "      <td>                               Todoroff, Mr. Lalio</td>\n",
        "      <td>   male</td>\n",
        "      <td> 29.699118</td>\n",
        "      <td> 0</td>\n",
        "      <td> 0</td>\n",
        "      <td>           349216</td>\n",
        "      <td>   7.8958</td>\n",
        "      <td> S</td>\n",
        "    </tr>\n",
        "    <tr>\n",
        "      <th>...</th>\n",
        "      <td>...</td>\n",
        "      <td>...</td>\n",
        "      <td>...</td>\n",
        "      <td>...</td>\n",
        "      <td>...</td>\n",
        "      <td>...</td>\n",
        "      <td>...</td>\n",
        "      <td>...</td>\n",
        "      <td>...</td>\n",
        "      <td>...</td>\n",
        "      <td>...</td>\n",
        "    </tr>\n",
        "    <tr>\n",
        "      <th>861</th>\n",
        "      <td> 862</td>\n",
        "      <td> 0</td>\n",
        "      <td> 2</td>\n",
        "      <td>                       Giles, Mr. Frederick Edward</td>\n",
        "      <td>   male</td>\n",
        "      <td> 21.000000</td>\n",
        "      <td> 1</td>\n",
        "      <td> 0</td>\n",
        "      <td>            28134</td>\n",
        "      <td>  11.5000</td>\n",
        "      <td> S</td>\n",
        "    </tr>\n",
        "    <tr>\n",
        "      <th>862</th>\n",
        "      <td> 863</td>\n",
        "      <td> 1</td>\n",
        "      <td> 1</td>\n",
        "      <td> Swift, Mrs. Frederick Joel (Margaret Welles Ba...</td>\n",
        "      <td> female</td>\n",
        "      <td> 48.000000</td>\n",
        "      <td> 0</td>\n",
        "      <td> 0</td>\n",
        "      <td>            17466</td>\n",
        "      <td>  25.9292</td>\n",
        "      <td> S</td>\n",
        "    </tr>\n",
        "    <tr>\n",
        "      <th>863</th>\n",
        "      <td> 864</td>\n",
        "      <td> 0</td>\n",
        "      <td> 3</td>\n",
        "      <td>                 Sage, Miss. Dorothy Edith \"Dolly\"</td>\n",
        "      <td> female</td>\n",
        "      <td> 29.699118</td>\n",
        "      <td> 8</td>\n",
        "      <td> 2</td>\n",
        "      <td>         CA. 2343</td>\n",
        "      <td>  69.5500</td>\n",
        "      <td> S</td>\n",
        "    </tr>\n",
        "    <tr>\n",
        "      <th>864</th>\n",
        "      <td> 865</td>\n",
        "      <td> 0</td>\n",
        "      <td> 2</td>\n",
        "      <td>                            Gill, Mr. John William</td>\n",
        "      <td>   male</td>\n",
        "      <td> 24.000000</td>\n",
        "      <td> 0</td>\n",
        "      <td> 0</td>\n",
        "      <td>           233866</td>\n",
        "      <td>  13.0000</td>\n",
        "      <td> S</td>\n",
        "    </tr>\n",
        "    <tr>\n",
        "      <th>865</th>\n",
        "      <td> 866</td>\n",
        "      <td> 1</td>\n",
        "      <td> 2</td>\n",
        "      <td>                          Bystrom, Mrs. (Karolina)</td>\n",
        "      <td> female</td>\n",
        "      <td> 42.000000</td>\n",
        "      <td> 0</td>\n",
        "      <td> 0</td>\n",
        "      <td>           236852</td>\n",
        "      <td>  13.0000</td>\n",
        "      <td> S</td>\n",
        "    </tr>\n",
        "    <tr>\n",
        "      <th>866</th>\n",
        "      <td> 867</td>\n",
        "      <td> 1</td>\n",
        "      <td> 2</td>\n",
        "      <td>                      Duran y More, Miss. Asuncion</td>\n",
        "      <td> female</td>\n",
        "      <td> 27.000000</td>\n",
        "      <td> 1</td>\n",
        "      <td> 0</td>\n",
        "      <td>    SC/PARIS 2149</td>\n",
        "      <td>  13.8583</td>\n",
        "      <td> C</td>\n",
        "    </tr>\n",
        "    <tr>\n",
        "      <th>867</th>\n",
        "      <td> 868</td>\n",
        "      <td> 0</td>\n",
        "      <td> 1</td>\n",
        "      <td>              Roebling, Mr. Washington Augustus II</td>\n",
        "      <td>   male</td>\n",
        "      <td> 31.000000</td>\n",
        "      <td> 0</td>\n",
        "      <td> 0</td>\n",
        "      <td>         PC 17590</td>\n",
        "      <td>  50.4958</td>\n",
        "      <td> S</td>\n",
        "    </tr>\n",
        "    <tr>\n",
        "      <th>868</th>\n",
        "      <td> 869</td>\n",
        "      <td> 0</td>\n",
        "      <td> 3</td>\n",
        "      <td>                       van Melkebeke, Mr. Philemon</td>\n",
        "      <td>   male</td>\n",
        "      <td> 29.699118</td>\n",
        "      <td> 0</td>\n",
        "      <td> 0</td>\n",
        "      <td>           345777</td>\n",
        "      <td>   9.5000</td>\n",
        "      <td> S</td>\n",
        "    </tr>\n",
        "    <tr>\n",
        "      <th>869</th>\n",
        "      <td> 870</td>\n",
        "      <td> 1</td>\n",
        "      <td> 3</td>\n",
        "      <td>                   Johnson, Master. Harold Theodor</td>\n",
        "      <td>   male</td>\n",
        "      <td>  4.000000</td>\n",
        "      <td> 1</td>\n",
        "      <td> 1</td>\n",
        "      <td>           347742</td>\n",
        "      <td>  11.1333</td>\n",
        "      <td> S</td>\n",
        "    </tr>\n",
        "    <tr>\n",
        "      <th>870</th>\n",
        "      <td> 871</td>\n",
        "      <td> 0</td>\n",
        "      <td> 3</td>\n",
        "      <td>                                 Balkic, Mr. Cerin</td>\n",
        "      <td>   male</td>\n",
        "      <td> 26.000000</td>\n",
        "      <td> 0</td>\n",
        "      <td> 0</td>\n",
        "      <td>           349248</td>\n",
        "      <td>   7.8958</td>\n",
        "      <td> S</td>\n",
        "    </tr>\n",
        "    <tr>\n",
        "      <th>871</th>\n",
        "      <td> 872</td>\n",
        "      <td> 1</td>\n",
        "      <td> 1</td>\n",
        "      <td>  Beckwith, Mrs. Richard Leonard (Sallie Monypeny)</td>\n",
        "      <td> female</td>\n",
        "      <td> 47.000000</td>\n",
        "      <td> 1</td>\n",
        "      <td> 1</td>\n",
        "      <td>            11751</td>\n",
        "      <td>  52.5542</td>\n",
        "      <td> S</td>\n",
        "    </tr>\n",
        "    <tr>\n",
        "      <th>872</th>\n",
        "      <td> 873</td>\n",
        "      <td> 0</td>\n",
        "      <td> 1</td>\n",
        "      <td>                          Carlsson, Mr. Frans Olof</td>\n",
        "      <td>   male</td>\n",
        "      <td> 33.000000</td>\n",
        "      <td> 0</td>\n",
        "      <td> 0</td>\n",
        "      <td>              695</td>\n",
        "      <td>   5.0000</td>\n",
        "      <td> S</td>\n",
        "    </tr>\n",
        "    <tr>\n",
        "      <th>873</th>\n",
        "      <td> 874</td>\n",
        "      <td> 0</td>\n",
        "      <td> 3</td>\n",
        "      <td>                       Vander Cruyssen, Mr. Victor</td>\n",
        "      <td>   male</td>\n",
        "      <td> 47.000000</td>\n",
        "      <td> 0</td>\n",
        "      <td> 0</td>\n",
        "      <td>           345765</td>\n",
        "      <td>   9.0000</td>\n",
        "      <td> S</td>\n",
        "    </tr>\n",
        "    <tr>\n",
        "      <th>874</th>\n",
        "      <td> 875</td>\n",
        "      <td> 1</td>\n",
        "      <td> 2</td>\n",
        "      <td>             Abelson, Mrs. Samuel (Hannah Wizosky)</td>\n",
        "      <td> female</td>\n",
        "      <td> 28.000000</td>\n",
        "      <td> 1</td>\n",
        "      <td> 0</td>\n",
        "      <td>        P/PP 3381</td>\n",
        "      <td>  24.0000</td>\n",
        "      <td> C</td>\n",
        "    </tr>\n",
        "    <tr>\n",
        "      <th>875</th>\n",
        "      <td> 876</td>\n",
        "      <td> 1</td>\n",
        "      <td> 3</td>\n",
        "      <td>                  Najib, Miss. Adele Kiamie \"Jane\"</td>\n",
        "      <td> female</td>\n",
        "      <td> 15.000000</td>\n",
        "      <td> 0</td>\n",
        "      <td> 0</td>\n",
        "      <td>             2667</td>\n",
        "      <td>   7.2250</td>\n",
        "      <td> C</td>\n",
        "    </tr>\n",
        "    <tr>\n",
        "      <th>876</th>\n",
        "      <td> 877</td>\n",
        "      <td> 0</td>\n",
        "      <td> 3</td>\n",
        "      <td>                     Gustafsson, Mr. Alfred Ossian</td>\n",
        "      <td>   male</td>\n",
        "      <td> 20.000000</td>\n",
        "      <td> 0</td>\n",
        "      <td> 0</td>\n",
        "      <td>             7534</td>\n",
        "      <td>   9.8458</td>\n",
        "      <td> S</td>\n",
        "    </tr>\n",
        "    <tr>\n",
        "      <th>877</th>\n",
        "      <td> 878</td>\n",
        "      <td> 0</td>\n",
        "      <td> 3</td>\n",
        "      <td>                              Petroff, Mr. Nedelio</td>\n",
        "      <td>   male</td>\n",
        "      <td> 19.000000</td>\n",
        "      <td> 0</td>\n",
        "      <td> 0</td>\n",
        "      <td>           349212</td>\n",
        "      <td>   7.8958</td>\n",
        "      <td> S</td>\n",
        "    </tr>\n",
        "    <tr>\n",
        "      <th>878</th>\n",
        "      <td> 879</td>\n",
        "      <td> 0</td>\n",
        "      <td> 3</td>\n",
        "      <td>                                Laleff, Mr. Kristo</td>\n",
        "      <td>   male</td>\n",
        "      <td> 29.699118</td>\n",
        "      <td> 0</td>\n",
        "      <td> 0</td>\n",
        "      <td>           349217</td>\n",
        "      <td>   7.8958</td>\n",
        "      <td> S</td>\n",
        "    </tr>\n",
        "    <tr>\n",
        "      <th>879</th>\n",
        "      <td> 880</td>\n",
        "      <td> 1</td>\n",
        "      <td> 1</td>\n",
        "      <td>     Potter, Mrs. Thomas Jr (Lily Alexenia Wilson)</td>\n",
        "      <td> female</td>\n",
        "      <td> 56.000000</td>\n",
        "      <td> 0</td>\n",
        "      <td> 1</td>\n",
        "      <td>            11767</td>\n",
        "      <td>  83.1583</td>\n",
        "      <td> C</td>\n",
        "    </tr>\n",
        "    <tr>\n",
        "      <th>880</th>\n",
        "      <td> 881</td>\n",
        "      <td> 1</td>\n",
        "      <td> 2</td>\n",
        "      <td>      Shelley, Mrs. William (Imanita Parrish Hall)</td>\n",
        "      <td> female</td>\n",
        "      <td> 25.000000</td>\n",
        "      <td> 0</td>\n",
        "      <td> 1</td>\n",
        "      <td>           230433</td>\n",
        "      <td>  26.0000</td>\n",
        "      <td> S</td>\n",
        "    </tr>\n",
        "    <tr>\n",
        "      <th>881</th>\n",
        "      <td> 882</td>\n",
        "      <td> 0</td>\n",
        "      <td> 3</td>\n",
        "      <td>                                Markun, Mr. Johann</td>\n",
        "      <td>   male</td>\n",
        "      <td> 33.000000</td>\n",
        "      <td> 0</td>\n",
        "      <td> 0</td>\n",
        "      <td>           349257</td>\n",
        "      <td>   7.8958</td>\n",
        "      <td> S</td>\n",
        "    </tr>\n",
        "    <tr>\n",
        "      <th>882</th>\n",
        "      <td> 883</td>\n",
        "      <td> 0</td>\n",
        "      <td> 3</td>\n",
        "      <td>                      Dahlberg, Miss. Gerda Ulrika</td>\n",
        "      <td> female</td>\n",
        "      <td> 22.000000</td>\n",
        "      <td> 0</td>\n",
        "      <td> 0</td>\n",
        "      <td>             7552</td>\n",
        "      <td>  10.5167</td>\n",
        "      <td> S</td>\n",
        "    </tr>\n",
        "    <tr>\n",
        "      <th>883</th>\n",
        "      <td> 884</td>\n",
        "      <td> 0</td>\n",
        "      <td> 2</td>\n",
        "      <td>                     Banfield, Mr. Frederick James</td>\n",
        "      <td>   male</td>\n",
        "      <td> 28.000000</td>\n",
        "      <td> 0</td>\n",
        "      <td> 0</td>\n",
        "      <td> C.A./SOTON 34068</td>\n",
        "      <td>  10.5000</td>\n",
        "      <td> S</td>\n",
        "    </tr>\n",
        "    <tr>\n",
        "      <th>884</th>\n",
        "      <td> 885</td>\n",
        "      <td> 0</td>\n",
        "      <td> 3</td>\n",
        "      <td>                            Sutehall, Mr. Henry Jr</td>\n",
        "      <td>   male</td>\n",
        "      <td> 25.000000</td>\n",
        "      <td> 0</td>\n",
        "      <td> 0</td>\n",
        "      <td>  SOTON/OQ 392076</td>\n",
        "      <td>   7.0500</td>\n",
        "      <td> S</td>\n",
        "    </tr>\n",
        "    <tr>\n",
        "      <th>885</th>\n",
        "      <td> 886</td>\n",
        "      <td> 0</td>\n",
        "      <td> 3</td>\n",
        "      <td>              Rice, Mrs. William (Margaret Norton)</td>\n",
        "      <td> female</td>\n",
        "      <td> 39.000000</td>\n",
        "      <td> 0</td>\n",
        "      <td> 5</td>\n",
        "      <td>           382652</td>\n",
        "      <td>  29.1250</td>\n",
        "      <td> Q</td>\n",
        "    </tr>\n",
        "    <tr>\n",
        "      <th>886</th>\n",
        "      <td> 887</td>\n",
        "      <td> 0</td>\n",
        "      <td> 2</td>\n",
        "      <td>                             Montvila, Rev. Juozas</td>\n",
        "      <td>   male</td>\n",
        "      <td> 27.000000</td>\n",
        "      <td> 0</td>\n",
        "      <td> 0</td>\n",
        "      <td>           211536</td>\n",
        "      <td>  13.0000</td>\n",
        "      <td> S</td>\n",
        "    </tr>\n",
        "    <tr>\n",
        "      <th>887</th>\n",
        "      <td> 888</td>\n",
        "      <td> 1</td>\n",
        "      <td> 1</td>\n",
        "      <td>                      Graham, Miss. Margaret Edith</td>\n",
        "      <td> female</td>\n",
        "      <td> 19.000000</td>\n",
        "      <td> 0</td>\n",
        "      <td> 0</td>\n",
        "      <td>           112053</td>\n",
        "      <td>  30.0000</td>\n",
        "      <td> S</td>\n",
        "    </tr>\n",
        "    <tr>\n",
        "      <th>888</th>\n",
        "      <td> 889</td>\n",
        "      <td> 0</td>\n",
        "      <td> 3</td>\n",
        "      <td>          Johnston, Miss. Catherine Helen \"Carrie\"</td>\n",
        "      <td> female</td>\n",
        "      <td> 29.699118</td>\n",
        "      <td> 1</td>\n",
        "      <td> 2</td>\n",
        "      <td>       W./C. 6607</td>\n",
        "      <td>  23.4500</td>\n",
        "      <td> S</td>\n",
        "    </tr>\n",
        "    <tr>\n",
        "      <th>889</th>\n",
        "      <td> 890</td>\n",
        "      <td> 1</td>\n",
        "      <td> 1</td>\n",
        "      <td>                             Behr, Mr. Karl Howell</td>\n",
        "      <td>   male</td>\n",
        "      <td> 26.000000</td>\n",
        "      <td> 0</td>\n",
        "      <td> 0</td>\n",
        "      <td>           111369</td>\n",
        "      <td>  30.0000</td>\n",
        "      <td> C</td>\n",
        "    </tr>\n",
        "    <tr>\n",
        "      <th>890</th>\n",
        "      <td> 891</td>\n",
        "      <td> 0</td>\n",
        "      <td> 3</td>\n",
        "      <td>                               Dooley, Mr. Patrick</td>\n",
        "      <td>   male</td>\n",
        "      <td> 32.000000</td>\n",
        "      <td> 0</td>\n",
        "      <td> 0</td>\n",
        "      <td>           370376</td>\n",
        "      <td>   7.7500</td>\n",
        "      <td> Q</td>\n",
        "    </tr>\n",
        "  </tbody>\n",
        "</table>\n",
        "<p>891 rows \u00d7 11 columns</p>\n",
        "</div>"
       ],
       "metadata": {},
       "output_type": "pyout",
       "prompt_number": 33,
       "text": [
        "     PassengerId  Survived  Pclass  \\\n",
        "0              1         0       3   \n",
        "1              2         1       1   \n",
        "2              3         1       3   \n",
        "3              4         1       1   \n",
        "4              5         0       3   \n",
        "5              6         0       3   \n",
        "6              7         0       1   \n",
        "7              8         0       3   \n",
        "8              9         1       3   \n",
        "9             10         1       2   \n",
        "10            11         1       3   \n",
        "11            12         1       1   \n",
        "12            13         0       3   \n",
        "13            14         0       3   \n",
        "14            15         0       3   \n",
        "15            16         1       2   \n",
        "16            17         0       3   \n",
        "17            18         1       2   \n",
        "18            19         0       3   \n",
        "19            20         1       3   \n",
        "20            21         0       2   \n",
        "21            22         1       2   \n",
        "22            23         1       3   \n",
        "23            24         1       1   \n",
        "24            25         0       3   \n",
        "25            26         1       3   \n",
        "26            27         0       3   \n",
        "27            28         0       1   \n",
        "28            29         1       3   \n",
        "29            30         0       3   \n",
        "..           ...       ...     ...   \n",
        "861          862         0       2   \n",
        "862          863         1       1   \n",
        "863          864         0       3   \n",
        "864          865         0       2   \n",
        "865          866         1       2   \n",
        "866          867         1       2   \n",
        "867          868         0       1   \n",
        "868          869         0       3   \n",
        "869          870         1       3   \n",
        "870          871         0       3   \n",
        "871          872         1       1   \n",
        "872          873         0       1   \n",
        "873          874         0       3   \n",
        "874          875         1       2   \n",
        "875          876         1       3   \n",
        "876          877         0       3   \n",
        "877          878         0       3   \n",
        "878          879         0       3   \n",
        "879          880         1       1   \n",
        "880          881         1       2   \n",
        "881          882         0       3   \n",
        "882          883         0       3   \n",
        "883          884         0       2   \n",
        "884          885         0       3   \n",
        "885          886         0       3   \n",
        "886          887         0       2   \n",
        "887          888         1       1   \n",
        "888          889         0       3   \n",
        "889          890         1       1   \n",
        "890          891         0       3   \n",
        "\n",
        "                                                  Name     Sex        Age  \\\n",
        "0                              Braund, Mr. Owen Harris    male  22.000000   \n",
        "1    Cumings, Mrs. John Bradley (Florence Briggs Th...  female  38.000000   \n",
        "2                               Heikkinen, Miss. Laina  female  26.000000   \n",
        "3         Futrelle, Mrs. Jacques Heath (Lily May Peel)  female  35.000000   \n",
        "4                             Allen, Mr. William Henry    male  35.000000   \n",
        "5                                     Moran, Mr. James    male  29.699118   \n",
        "6                              McCarthy, Mr. Timothy J    male  54.000000   \n",
        "7                       Palsson, Master. Gosta Leonard    male   2.000000   \n",
        "8    Johnson, Mrs. Oscar W (Elisabeth Vilhelmina Berg)  female  27.000000   \n",
        "9                  Nasser, Mrs. Nicholas (Adele Achem)  female  14.000000   \n",
        "10                     Sandstrom, Miss. Marguerite Rut  female   4.000000   \n",
        "11                            Bonnell, Miss. Elizabeth  female  58.000000   \n",
        "12                      Saundercock, Mr. William Henry    male  20.000000   \n",
        "13                         Andersson, Mr. Anders Johan    male  39.000000   \n",
        "14                Vestrom, Miss. Hulda Amanda Adolfina  female  14.000000   \n",
        "15                    Hewlett, Mrs. (Mary D Kingcome)   female  55.000000   \n",
        "16                                Rice, Master. Eugene    male   2.000000   \n",
        "17                        Williams, Mr. Charles Eugene    male  29.699118   \n",
        "18   Vander Planke, Mrs. Julius (Emelia Maria Vande...  female  31.000000   \n",
        "19                             Masselmani, Mrs. Fatima  female  29.699118   \n",
        "20                                Fynney, Mr. Joseph J    male  35.000000   \n",
        "21                               Beesley, Mr. Lawrence    male  34.000000   \n",
        "22                         McGowan, Miss. Anna \"Annie\"  female  15.000000   \n",
        "23                        Sloper, Mr. William Thompson    male  28.000000   \n",
        "24                       Palsson, Miss. Torborg Danira  female   8.000000   \n",
        "25   Asplund, Mrs. Carl Oscar (Selma Augusta Emilia...  female  38.000000   \n",
        "26                             Emir, Mr. Farred Chehab    male  29.699118   \n",
        "27                      Fortune, Mr. Charles Alexander    male  19.000000   \n",
        "28                       O'Dwyer, Miss. Ellen \"Nellie\"  female  29.699118   \n",
        "29                                 Todoroff, Mr. Lalio    male  29.699118   \n",
        "..                                                 ...     ...        ...   \n",
        "861                        Giles, Mr. Frederick Edward    male  21.000000   \n",
        "862  Swift, Mrs. Frederick Joel (Margaret Welles Ba...  female  48.000000   \n",
        "863                  Sage, Miss. Dorothy Edith \"Dolly\"  female  29.699118   \n",
        "864                             Gill, Mr. John William    male  24.000000   \n",
        "865                           Bystrom, Mrs. (Karolina)  female  42.000000   \n",
        "866                       Duran y More, Miss. Asuncion  female  27.000000   \n",
        "867               Roebling, Mr. Washington Augustus II    male  31.000000   \n",
        "868                        van Melkebeke, Mr. Philemon    male  29.699118   \n",
        "869                    Johnson, Master. Harold Theodor    male   4.000000   \n",
        "870                                  Balkic, Mr. Cerin    male  26.000000   \n",
        "871   Beckwith, Mrs. Richard Leonard (Sallie Monypeny)  female  47.000000   \n",
        "872                           Carlsson, Mr. Frans Olof    male  33.000000   \n",
        "873                        Vander Cruyssen, Mr. Victor    male  47.000000   \n",
        "874              Abelson, Mrs. Samuel (Hannah Wizosky)  female  28.000000   \n",
        "875                   Najib, Miss. Adele Kiamie \"Jane\"  female  15.000000   \n",
        "876                      Gustafsson, Mr. Alfred Ossian    male  20.000000   \n",
        "877                               Petroff, Mr. Nedelio    male  19.000000   \n",
        "878                                 Laleff, Mr. Kristo    male  29.699118   \n",
        "879      Potter, Mrs. Thomas Jr (Lily Alexenia Wilson)  female  56.000000   \n",
        "880       Shelley, Mrs. William (Imanita Parrish Hall)  female  25.000000   \n",
        "881                                 Markun, Mr. Johann    male  33.000000   \n",
        "882                       Dahlberg, Miss. Gerda Ulrika  female  22.000000   \n",
        "883                      Banfield, Mr. Frederick James    male  28.000000   \n",
        "884                             Sutehall, Mr. Henry Jr    male  25.000000   \n",
        "885               Rice, Mrs. William (Margaret Norton)  female  39.000000   \n",
        "886                              Montvila, Rev. Juozas    male  27.000000   \n",
        "887                       Graham, Miss. Margaret Edith  female  19.000000   \n",
        "888           Johnston, Miss. Catherine Helen \"Carrie\"  female  29.699118   \n",
        "889                              Behr, Mr. Karl Howell    male  26.000000   \n",
        "890                                Dooley, Mr. Patrick    male  32.000000   \n",
        "\n",
        "     SibSp  Parch            Ticket      Fare Embarked  \n",
        "0        1      0         A/5 21171    7.2500        S  \n",
        "1        1      0          PC 17599   71.2833        C  \n",
        "2        0      0  STON/O2. 3101282    7.9250        S  \n",
        "3        1      0            113803   53.1000        S  \n",
        "4        0      0            373450    8.0500        S  \n",
        "5        0      0            330877    8.4583        Q  \n",
        "6        0      0             17463   51.8625        S  \n",
        "7        3      1            349909   21.0750        S  \n",
        "8        0      2            347742   11.1333        S  \n",
        "9        1      0            237736   30.0708        C  \n",
        "10       1      1           PP 9549   16.7000        S  \n",
        "11       0      0            113783   26.5500        S  \n",
        "12       0      0         A/5. 2151    8.0500        S  \n",
        "13       1      5            347082   31.2750        S  \n",
        "14       0      0            350406    7.8542        S  \n",
        "15       0      0            248706   16.0000        S  \n",
        "16       4      1            382652   29.1250        Q  \n",
        "17       0      0            244373   13.0000        S  \n",
        "18       1      0            345763   18.0000        S  \n",
        "19       0      0              2649    7.2250        C  \n",
        "20       0      0            239865   26.0000        S  \n",
        "21       0      0            248698   13.0000        S  \n",
        "22       0      0            330923    8.0292        Q  \n",
        "23       0      0            113788   35.5000        S  \n",
        "24       3      1            349909   21.0750        S  \n",
        "25       1      5            347077   31.3875        S  \n",
        "26       0      0              2631    7.2250        C  \n",
        "27       3      2             19950  263.0000        S  \n",
        "28       0      0            330959    7.8792        Q  \n",
        "29       0      0            349216    7.8958        S  \n",
        "..     ...    ...               ...       ...      ...  \n",
        "861      1      0             28134   11.5000        S  \n",
        "862      0      0             17466   25.9292        S  \n",
        "863      8      2          CA. 2343   69.5500        S  \n",
        "864      0      0            233866   13.0000        S  \n",
        "865      0      0            236852   13.0000        S  \n",
        "866      1      0     SC/PARIS 2149   13.8583        C  \n",
        "867      0      0          PC 17590   50.4958        S  \n",
        "868      0      0            345777    9.5000        S  \n",
        "869      1      1            347742   11.1333        S  \n",
        "870      0      0            349248    7.8958        S  \n",
        "871      1      1             11751   52.5542        S  \n",
        "872      0      0               695    5.0000        S  \n",
        "873      0      0            345765    9.0000        S  \n",
        "874      1      0         P/PP 3381   24.0000        C  \n",
        "875      0      0              2667    7.2250        C  \n",
        "876      0      0              7534    9.8458        S  \n",
        "877      0      0            349212    7.8958        S  \n",
        "878      0      0            349217    7.8958        S  \n",
        "879      0      1             11767   83.1583        C  \n",
        "880      0      1            230433   26.0000        S  \n",
        "881      0      0            349257    7.8958        S  \n",
        "882      0      0              7552   10.5167        S  \n",
        "883      0      0  C.A./SOTON 34068   10.5000        S  \n",
        "884      0      0   SOTON/OQ 392076    7.0500        S  \n",
        "885      0      5            382652   29.1250        Q  \n",
        "886      0      0            211536   13.0000        S  \n",
        "887      0      0            112053   30.0000        S  \n",
        "888      1      2        W./C. 6607   23.4500        S  \n",
        "889      0      0            111369   30.0000        C  \n",
        "890      0      0            370376    7.7500        Q  \n",
        "\n",
        "[891 rows x 11 columns]"
       ]
      }
     ],
     "prompt_number": 33
    },
    {
     "cell_type": "markdown",
     "metadata": {},
     "source": [
      "<li>PassengerId - Continous - well, this is supposed to be unique.\n",
      "<li>Survived - Categorical - but our describe will print it because the data is converted to 0 or 1. Anyway, this is pobably the most important data\n",
      "<li>Pclass - Continous\n",
      "<li>Sex - Categorical and for our purposes, we can convert this into digits since its categorical.\n",
      "<li>Age - Continous\n",
      "<li>SibSp - Continous\n",
      "<li>Parch - Continous\n",
      "<li>Ticket - well, this one is a string too. \n",
      "<li>Fare - Continous\n",
      "<li>Embarked - well, its a string"
     ]
    },
    {
     "cell_type": "markdown",
     "metadata": {},
     "source": [
      "###Step 4 - Get Min, Max, Mean, and Standard deviation for Continous data"
     ]
    },
    {
     "cell_type": "code",
     "collapsed": false,
     "input": [
      "TitanicDF.describe()"
     ],
     "language": "python",
     "metadata": {},
     "outputs": [
      {
       "html": [
        "<div style=\"max-height:1000px;max-width:1500px;overflow:auto;\">\n",
        "<table border=\"1\" class=\"dataframe\">\n",
        "  <thead>\n",
        "    <tr style=\"text-align: right;\">\n",
        "      <th></th>\n",
        "      <th>PassengerId</th>\n",
        "      <th>Survived</th>\n",
        "      <th>Pclass</th>\n",
        "      <th>Age</th>\n",
        "      <th>SibSp</th>\n",
        "      <th>Parch</th>\n",
        "      <th>Fare</th>\n",
        "    </tr>\n",
        "  </thead>\n",
        "  <tbody>\n",
        "    <tr>\n",
        "      <th>count</th>\n",
        "      <td> 891.000000</td>\n",
        "      <td> 891.000000</td>\n",
        "      <td> 891.000000</td>\n",
        "      <td> 891.000000</td>\n",
        "      <td> 891.000000</td>\n",
        "      <td> 891.000000</td>\n",
        "      <td> 891.000000</td>\n",
        "    </tr>\n",
        "    <tr>\n",
        "      <th>mean</th>\n",
        "      <td> 446.000000</td>\n",
        "      <td>   0.383838</td>\n",
        "      <td>   2.308642</td>\n",
        "      <td>  29.699118</td>\n",
        "      <td>   0.523008</td>\n",
        "      <td>   0.381594</td>\n",
        "      <td>  32.204208</td>\n",
        "    </tr>\n",
        "    <tr>\n",
        "      <th>std</th>\n",
        "      <td> 257.353842</td>\n",
        "      <td>   0.486592</td>\n",
        "      <td>   0.836071</td>\n",
        "      <td>  13.002015</td>\n",
        "      <td>   1.102743</td>\n",
        "      <td>   0.806057</td>\n",
        "      <td>  49.693429</td>\n",
        "    </tr>\n",
        "    <tr>\n",
        "      <th>min</th>\n",
        "      <td>   1.000000</td>\n",
        "      <td>   0.000000</td>\n",
        "      <td>   1.000000</td>\n",
        "      <td>   0.420000</td>\n",
        "      <td>   0.000000</td>\n",
        "      <td>   0.000000</td>\n",
        "      <td>   0.000000</td>\n",
        "    </tr>\n",
        "    <tr>\n",
        "      <th>25%</th>\n",
        "      <td> 223.500000</td>\n",
        "      <td>   0.000000</td>\n",
        "      <td>   2.000000</td>\n",
        "      <td>  22.000000</td>\n",
        "      <td>   0.000000</td>\n",
        "      <td>   0.000000</td>\n",
        "      <td>   7.910400</td>\n",
        "    </tr>\n",
        "    <tr>\n",
        "      <th>50%</th>\n",
        "      <td> 446.000000</td>\n",
        "      <td>   0.000000</td>\n",
        "      <td>   3.000000</td>\n",
        "      <td>  29.699118</td>\n",
        "      <td>   0.000000</td>\n",
        "      <td>   0.000000</td>\n",
        "      <td>  14.454200</td>\n",
        "    </tr>\n",
        "    <tr>\n",
        "      <th>75%</th>\n",
        "      <td> 668.500000</td>\n",
        "      <td>   1.000000</td>\n",
        "      <td>   3.000000</td>\n",
        "      <td>  35.000000</td>\n",
        "      <td>   1.000000</td>\n",
        "      <td>   0.000000</td>\n",
        "      <td>  31.000000</td>\n",
        "    </tr>\n",
        "    <tr>\n",
        "      <th>max</th>\n",
        "      <td> 891.000000</td>\n",
        "      <td>   1.000000</td>\n",
        "      <td>   3.000000</td>\n",
        "      <td>  80.000000</td>\n",
        "      <td>   8.000000</td>\n",
        "      <td>   6.000000</td>\n",
        "      <td> 512.329200</td>\n",
        "    </tr>\n",
        "  </tbody>\n",
        "</table>\n",
        "</div>"
       ],
       "metadata": {},
       "output_type": "pyout",
       "prompt_number": 34,
       "text": [
        "       PassengerId    Survived      Pclass         Age       SibSp  \\\n",
        "count   891.000000  891.000000  891.000000  891.000000  891.000000   \n",
        "mean    446.000000    0.383838    2.308642   29.699118    0.523008   \n",
        "std     257.353842    0.486592    0.836071   13.002015    1.102743   \n",
        "min       1.000000    0.000000    1.000000    0.420000    0.000000   \n",
        "25%     223.500000    0.000000    2.000000   22.000000    0.000000   \n",
        "50%     446.000000    0.000000    3.000000   29.699118    0.000000   \n",
        "75%     668.500000    1.000000    3.000000   35.000000    1.000000   \n",
        "max     891.000000    1.000000    3.000000   80.000000    8.000000   \n",
        "\n",
        "            Parch        Fare  \n",
        "count  891.000000  891.000000  \n",
        "mean     0.381594   32.204208  \n",
        "std      0.806057   49.693429  \n",
        "min      0.000000    0.000000  \n",
        "25%      0.000000    7.910400  \n",
        "50%      0.000000   14.454200  \n",
        "75%      0.000000   31.000000  \n",
        "max      6.000000  512.329200  "
       ]
      }
     ],
     "prompt_number": 34
    },
    {
     "cell_type": "markdown",
     "metadata": {},
     "source": [
      "<li> Very interesting data. The standard deviation for Age is 13 years? And the min fare is 0 and max fare is 512. "
     ]
    },
    {
     "cell_type": "markdown",
     "metadata": {},
     "source": [
      "### Step 5 - Lets plot some histograms. I will focus on relevant histograms rather than all of them, since histograms for some of them make no sense. Example - PassengerId."
     ]
    },
    {
     "cell_type": "code",
     "collapsed": false,
     "input": [
      "for i in list(TitanicDF):\n",
      "    print i"
     ],
     "language": "python",
     "metadata": {},
     "outputs": [
      {
       "output_type": "stream",
       "stream": "stdout",
       "text": [
        "PassengerId\n",
        "Survived\n",
        "Pclass\n",
        "Name\n",
        "Sex\n",
        "Age\n",
        "SibSp\n",
        "Parch\n",
        "Ticket\n",
        "Fare\n",
        "Embarked\n"
       ]
      }
     ],
     "prompt_number": 104
    },
    {
     "cell_type": "code",
     "collapsed": false,
     "input": [
      "TitanicDF.Survived.hist()"
     ],
     "language": "python",
     "metadata": {},
     "outputs": [
      {
       "metadata": {},
       "output_type": "pyout",
       "prompt_number": 35,
       "text": [
        "<matplotlib.axes._subplots.AxesSubplot at 0xc4751d0>"
       ]
      },
      {
       "metadata": {},
       "output_type": "display_data",
       "png": "[encoded data removed]",
       "text": [
        "<matplotlib.figure.Figure at 0xc4e74e0>"
       ]
      }
     ],
     "prompt_number": 35
    },
    {
     "cell_type": "code",
     "collapsed": false,
     "input": [
      "TitanicDF.Pclass.hist()"
     ],
     "language": "python",
     "metadata": {},
     "outputs": [
      {
       "metadata": {},
       "output_type": "pyout",
       "prompt_number": 36,
       "text": [
        "<matplotlib.axes._subplots.AxesSubplot at 0xc75b208>"
       ]
      },
      {
       "metadata": {},
       "output_type": "display_data",
       "png": "[encoded data removed]",
       "text": [
        "<matplotlib.figure.Figure at 0xc6417b8>"
       ]
      }
     ],
     "prompt_number": 36
    },
    {
     "cell_type": "code",
     "collapsed": false,
     "input": [
      "TitanicDF.Age.hist()"
     ],
     "language": "python",
     "metadata": {},
     "outputs": [
      {
       "metadata": {},
       "output_type": "pyout",
       "prompt_number": 37,
       "text": [
        "<matplotlib.axes._subplots.AxesSubplot at 0xc7ea898>"
       ]
      },
      {
       "metadata": {},
       "output_type": "display_data",
       "png": "[encoded data removed]",
       "text": [
        "<matplotlib.figure.Figure at 0xc803080>"
       ]
      }
     ],
     "prompt_number": 37
    },
    {
     "cell_type": "code",
     "collapsed": false,
     "input": [
      "TitanicDF.SibSp.hist()"
     ],
     "language": "python",
     "metadata": {},
     "outputs": [
      {
       "metadata": {},
       "output_type": "pyout",
       "prompt_number": 38,
       "text": [
        "<matplotlib.axes._subplots.AxesSubplot at 0xcb9a438>"
       ]
      },
      {
       "metadata": {},
       "output_type": "display_data",
       "png": "[encoded data removed]",
       "text": [
        "<matplotlib.figure.Figure at 0xcba5f28>"
       ]
      }
     ],
     "prompt_number": 38
    },
    {
     "cell_type": "code",
     "collapsed": false,
     "input": [
      "TitanicDF.Parch.hist()"
     ],
     "language": "python",
     "metadata": {},
     "outputs": [
      {
       "metadata": {},
       "output_type": "pyout",
       "prompt_number": 39,
       "text": [
        "<matplotlib.axes._subplots.AxesSubplot at 0xcde57b8>"
       ]
      },
      {
       "metadata": {},
       "output_type": "display_data",
       "png": "[encoded data removed]",
       "text": [
        "<matplotlib.figure.Figure at 0xcdf1518>"
       ]
      }
     ],
     "prompt_number": 39
    },
    {
     "cell_type": "code",
     "collapsed": false,
     "input": [
      "TitanicDF.Fare.hist()"
     ],
     "language": "python",
     "metadata": {},
     "outputs": [
      {
       "metadata": {},
       "output_type": "pyout",
       "prompt_number": 40,
       "text": [
        "<matplotlib.axes._subplots.AxesSubplot at 0xcdb4940>"
       ]
      },
      {
       "metadata": {},
       "output_type": "display_data",
       "png": "[encoded data removed]",
       "text": [
        "<matplotlib.figure.Figure at 0xd505c88>"
       ]
      }
     ],
     "prompt_number": 40
    },
    {
     "cell_type": "code",
     "collapsed": false,
     "input": [
      "TitanicDF[TitanicDF.Sex == 'male'].Survived.value_counts().plot(kind='barh')"
     ],
     "language": "python",
     "metadata": {},
     "outputs": [
      {
       "metadata": {},
       "output_type": "pyout",
       "prompt_number": 41,
       "text": [
        "<matplotlib.axes._subplots.AxesSubplot at 0xd63ed30>"
       ]
      },
      {
       "metadata": {},
       "output_type": "display_data",
       "png": "[encoded data removed]",
       "text": [
        "<matplotlib.figure.Figure at 0xd80dc50>"
       ]
      }
     ],
     "prompt_number": 41
    },
    {
     "cell_type": "markdown",
     "metadata": {},
     "source": [
      "### Step 6- Its a free world\n",
      "<li> One of the things that people talk about Titanic is the 'class' difference among the passengers and \"how the passengers were treated based on thier standing, economically\". So, lets try to examine if there was any better survival rate based on the fare they paid. Meaning - if its a rich passenger, did they get preference in getting onto the smaller survival boats, based on survival rate and fare price. Note - completly non-scientifc and purely based on a novice level assumptions by a student. "
     ]
    },
    {
     "cell_type": "markdown",
     "metadata": {},
     "source": [
      "<li> Lets use this \"logic\"- lets get a average price people paid for the great Titanic journey and look at survival based on if they paid more or less than the mean fare."
     ]
    },
    {
     "cell_type": "code",
     "collapsed": false,
     "input": [
      "TitanicDF.Fare.describe()"
     ],
     "language": "python",
     "metadata": {},
     "outputs": [
      {
       "metadata": {},
       "output_type": "pyout",
       "prompt_number": 42,
       "text": [
        "count    891.000000\n",
        "mean      32.204208\n",
        "std       49.693429\n",
        "min        0.000000\n",
        "25%        7.910400\n",
        "50%       14.454200\n",
        "75%       31.000000\n",
        "max      512.329200\n",
        "dtype: float64"
       ]
      }
     ],
     "prompt_number": 42
    },
    {
     "cell_type": "code",
     "collapsed": false,
     "input": [
      "TitanicDF.Survived.shape"
     ],
     "language": "python",
     "metadata": {},
     "outputs": [
      {
       "metadata": {},
       "output_type": "pyout",
       "prompt_number": 43,
       "text": [
        "(891,)"
       ]
      }
     ],
     "prompt_number": 43
    },
    {
     "cell_type": "code",
     "collapsed": false,
     "input": [
      "TitanicDF[TitanicDF.Survived==1].shape"
     ],
     "language": "python",
     "metadata": {},
     "outputs": [
      {
       "metadata": {},
       "output_type": "pyout",
       "prompt_number": 151,
       "text": [
        "(342, 11)"
       ]
      }
     ],
     "prompt_number": 151
    },
    {
     "cell_type": "code",
     "collapsed": false,
     "input": [
      "TitanicDF[TitanicDF.Survived==0].shape"
     ],
     "language": "python",
     "metadata": {},
     "outputs": [
      {
       "metadata": {},
       "output_type": "pyout",
       "prompt_number": 44,
       "text": [
        "(549, 11)"
       ]
      }
     ],
     "prompt_number": 44
    },
    {
     "cell_type": "code",
     "collapsed": false,
     "input": [
      "TitanicDF[TitanicDF.Fare.values >= TitanicDF.Fare.mean()].shape"
     ],
     "language": "python",
     "metadata": {},
     "outputs": [
      {
       "metadata": {},
       "output_type": "pyout",
       "prompt_number": 45,
       "text": [
        "(211, 11)"
       ]
      }
     ],
     "prompt_number": 45
    },
    {
     "cell_type": "code",
     "collapsed": false,
     "input": [
      "TitanicDF[TitanicDF.Fare.values <= TitanicDF.Fare.mean()].shape"
     ],
     "language": "python",
     "metadata": {},
     "outputs": [
      {
       "metadata": {},
       "output_type": "pyout",
       "prompt_number": 46,
       "text": [
        "(680, 11)"
       ]
      }
     ],
     "prompt_number": 46
    },
    {
     "cell_type": "code",
     "collapsed": false,
     "input": [
      "TitanicDF[(TitanicDF.Survived==1) &(TitanicDF.Fare.values >= TitanicDF.Fare.mean())].shape"
     ],
     "language": "python",
     "metadata": {},
     "outputs": [
      {
       "metadata": {},
       "output_type": "pyout",
       "prompt_number": 48,
       "text": [
        "(126, 11)"
       ]
      }
     ],
     "prompt_number": 48
    },
    {
     "cell_type": "code",
     "collapsed": false,
     "input": [
      "TitanicDF[(TitanicDF.Survived==1) &(TitanicDF.Fare.values <= TitanicDF.Fare.mean())].shape"
     ],
     "language": "python",
     "metadata": {},
     "outputs": [
      {
       "metadata": {},
       "output_type": "pyout",
       "prompt_number": 49,
       "text": [
        "(216, 11)"
       ]
      }
     ],
     "prompt_number": 49
    },
    {
     "cell_type": "markdown",
     "metadata": {},
     "source": [
      "### Interesting, among the \"rich\" people 126 survived and aming the \"poor\" people 216 survived. Well, the people who paid less than mean fare are more in the popultation. So, this makes sense. We need to normalize the data."
     ]
    },
    {
     "cell_type": "code",
     "collapsed": false,
     "input": [],
     "language": "python",
     "metadata": {},
     "outputs": []
    }
   ],
   "metadata": {}
  }
 ]
}