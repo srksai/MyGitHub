{
 "metadata": {
  "name": "",
  "signature": "sha256:4871f845a777abc0ee138ee426e2a689318bfb788b1afa643915da83809d6fb5"
 },
 "nbformat": 3,
 "nbformat_minor": 0,
 "worksheets": [
  {
   "cells": [
    {
     "cell_type": "markdown",
     "metadata": {},
     "source": [
      "## Politics Latent Semantic Analysis"
     ]
    },
    {
     "cell_type": "code",
     "collapsed": false,
     "input": [
      "from bs4 import BeautifulSoup\n",
      "import nltk\n",
      "from nltk.corpus import stopwords\n",
      "from sklearn.datasets import fetch_20newsgroups\n",
      "from sklearn.feature_extraction.text import TfidfVectorizer\n",
      "from sklearn.decomposition import TruncatedSVD\n",
      "categories = ['talk.politics.misc']\n",
      "dataset = fetch_20newsgroups(subset='train',shuffle=True, random_state=42, categories=categories)\n",
      "corpus = dataset.data"
     ],
     "language": "python",
     "metadata": {},
     "outputs": [],
     "prompt_number": 1
    },
    {
     "cell_type": "markdown",
     "metadata": {},
     "source": [
      "###Grab the stopwords stuff"
     ]
    },
    {
     "cell_type": "code",
     "collapsed": false,
     "input": [
      "nltk.download('stopwords')"
     ],
     "language": "python",
     "metadata": {},
     "outputs": [
      {
       "output_type": "stream",
       "stream": "stdout",
       "text": [
        "[nltk_data] Downloading package stopwords to\n",
        "[nltk_data]     C:\\Users\\yallaps\\AppData\\Roaming\\nltk_data...\n",
        "[nltk_data]   Package stopwords is already up-to-date!\n"
       ]
      },
      {
       "metadata": {},
       "output_type": "pyout",
       "prompt_number": 2,
       "text": [
        "True"
       ]
      }
     ],
     "prompt_number": 2
    },
    {
     "cell_type": "markdown",
     "metadata": {},
     "source": [
      "###Stopword magic"
     ]
    },
    {
     "cell_type": "code",
     "collapsed": false,
     "input": [
      "stopset = set(stopwords.words('english'))\n",
      "stopset.update(['0', '1','2','3','4','5','6','7','8','9','lt','p','/p','br','amp','quot','field','font','normal','span','0px','rgb','style','51', \n",
      "                'spacing','text','helvetica','size','family', 'space', 'arial', 'height', 'indent', 'letter'\n",
      "                'line','none','sans','serif','transform','line','variant','weight','times', 'new', 'title'\n",
      "                'white','word','letter', 'roman','0pt','16','color','12','14','21', 'neue', 'class',  '512', '-',\n",
      "                '891', '3733', '00', 'b30', 'ingr', '000', 'columbus', 'georgia', 'nntp', ])\n"
     ],
     "language": "python",
     "metadata": {},
     "outputs": [],
     "prompt_number": 3
    },
    {
     "cell_type": "markdown",
     "metadata": {},
     "source": [
      "### TF-IDF Vectorizing"
     ]
    },
    {
     "cell_type": "code",
     "collapsed": false,
     "input": [
      "#check what we have at index 0\n",
      "corpus[0]"
     ],
     "language": "python",
     "metadata": {},
     "outputs": [
      {
       "metadata": {},
       "output_type": "pyout",
       "prompt_number": 4,
       "text": [
        "u'From: steveh@thor.isc-br.com (Steve Hendricks)\\nSubject: Re: Limiting Govt (was Re: Employment (was Re: Why not concentrate...)\\nSummary: More on failed governments\\nOrganization: Failed Libertarian Opportunities, Inc.\\nLines: 24\\nNntp-Posting-Host: thor.isc-br.com\\n\\nIn article <18APR199314034390@venus.tamu.edu> gmw0622@venus.tamu.edu (Mr. Grinch) writes:\\n>In article <1993Apr18.172531.10946@isc-br.isc-br.com>, steveh@thor.isc-br.com (Steve Hendricks) writes...\\n>> \\n>:It would seem that a society with a \"failed\" government would be an ideal\\n>:setting for libertarian ideals to be implemented.  Now why do you suppose\\n>:that never seems to occur?...\\n>\\n>\\n>I fail to see why you should feel this way in the first place.  Constant\\n>combat isn\\'t particularly conducive to intellectual theorizing.  Also,\\n>they tend to get invaded before they can come to anything like a stable\\n>society anyway. \\n\\nAnd the reason that the Soviet Union couldn\\'t achieve the ideal of pure\\ncommunism was the hostility of surrounding capitalist nations...Uh huh.\\nSomehow, this all sounds familiar.  Once again, utopian dreams are \\nconfronted by the real world...\\n\\n>\\n>Mr. Grinch\\n--\\nSteve Hendricks                        |  DOMAIN:  steveh@thor.ISC-BR.COM   \\n\"One thing about data, it sure does cut|  UUCP:    ...!uunet!isc-br!thor!steveh\\n the bulls**t.\" - R. Hofferbert        |  Ma Bell: 509 838-8826\\n'"
       ]
      }
     ],
     "prompt_number": 4
    },
    {
     "cell_type": "code",
     "collapsed": false,
     "input": [
      "vectorizer = TfidfVectorizer(stop_words=stopset,\n",
      "                                 use_idf=True, ngram_range=(1, 3))\n",
      "X = vectorizer.fit_transform(corpus)"
     ],
     "language": "python",
     "metadata": {},
     "outputs": [],
     "prompt_number": 5
    },
    {
     "cell_type": "code",
     "collapsed": false,
     "input": [
      "X[0]"
     ],
     "language": "python",
     "metadata": {},
     "outputs": [
      {
       "metadata": {},
       "output_type": "pyout",
       "prompt_number": 6,
       "text": [
        "<1x171264 sparse matrix of type '<type 'numpy.float64'>'\n",
        "\twith 361 stored elements in Compressed Sparse Row format>"
       ]
      }
     ],
     "prompt_number": 6
    },
    {
     "cell_type": "code",
     "collapsed": false,
     "input": [
      "##So, what do we have here?\n",
      "print X[0]"
     ],
     "language": "python",
     "metadata": {},
     "outputs": [
      {
       "output_type": "stream",
       "stream": "stdout",
       "text": [
        "  (0, 4869)\t0.0392460244614\n",
        "  (0, 20581)\t0.0392460244614\n",
        "  (0, 89997)\t0.0392460244614\n",
        "  (0, 71222)\t0.0392460244614\n",
        "  (0, 24499)\t0.0392460244614\n",
        "  (0, 144421)\t0.0392460244614\n",
        "  (0, 152389)\t0.0392460244614\n",
        "  (0, 78298)\t0.0392460244614\n",
        "  (0, 160057)\t0.0392460244614\n",
        "  (0, 160044)\t0.0392460244614\n",
        "  (0, 40134)\t0.0392460244614\n",
        "  (0, 147517)\t0.0392460244614\n",
        "  (0, 40656)\t0.0392460244614\n",
        "  (0, 151240)\t0.0392460244614\n",
        "  (0, 104840)\t0.0392460244614\n",
        "  (0, 32126)\t0.0392460244614\n",
        "  (0, 78290)\t0.0392460244614\n",
        "  (0, 46577)\t0.0377032382615\n",
        "  (0, 70163)\t0.0377032382615\n",
        "  (0, 144387)\t0.0377032382615\n",
        "  (0, 67107)\t0.0496882143646\n",
        "  (0, 97897)\t0.0496882143646\n",
        "  (0, 167609)\t0.0579142171735\n",
        "  (0, 124121)\t0.0579142171735\n",
        "  (0, 34729)\t0.0542741529426\n",
        "  :\t:\n",
        "  (0, 1714)\t0.0542741529426\n",
        "  (0, 15725)\t0.0238276301886\n",
        "  (0, 72072)\t0.0165712879394\n",
        "  (0, 114878)\t0.0161332740934\n",
        "  (0, 3402)\t0.0387017667362\n",
        "  (0, 86875)\t0.00897750301605\n",
        "  (0, 74738)\t0.0342220720374\n",
        "  (0, 105487)\t0.0454687553655\n",
        "  (0, 85637)\t0.0672053766511\n",
        "  (0, 106142)\t0.00911338133124\n",
        "  (0, 66448)\t0.0356059602305\n",
        "  (0, 56143)\t0.119476257689\n",
        "  (0, 146691)\t0.0322188001325\n",
        "  (0, 34163)\t0.0307983436484\n",
        "  (0, 51038)\t0.0319658959995\n",
        "  (0, 66533)\t0.0356059602305\n",
        "  (0, 86819)\t0.0372427525565\n",
        "  (0, 122972)\t0.0297316295681\n",
        "  (0, 145803)\t0.00897750301605\n",
        "  (0, 70161)\t0.0990698806721\n",
        "  (0, 144385)\t0.0859939370306\n",
        "  (0, 31832)\t0.0693854902778\n",
        "  (0, 78284)\t0.229229286292\n",
        "  (0, 152385)\t0.165116467787\n",
        "  (0, 144419)\t0.132093174229\n"
       ]
      }
     ],
     "prompt_number": 7
    },
    {
     "cell_type": "markdown",
     "metadata": {},
     "source": [
      "###LSA\n",
      "\n",
      "Input:  X, a matrix where m is the number of documents I have, and n is the number of terms.\n",
      "\n",
      "Process:   I'm going to decompose X into three matricies called U, S, and T.  When we do the decomposition, we have to pick a value k, that's how many concepts we are going to keep.  \n",
      "\n",
      "$$X \\approx USV^{T}$$\n",
      "\n",
      "U will be a m x k matrix.  The rows will be documents and the columns will be 'concepts'\n",
      "\n",
      "S will be a k x k diagnal matrix.   The elements will be the amount of variation captured from each concept.\n",
      "\n",
      "V will be a m x k (mind the transpose) matrix.   The rows will be terms and the columns will be concepts.  "
     ]
    },
    {
     "cell_type": "code",
     "collapsed": false,
     "input": [
      "### Lets seee how big is our X\n",
      "X.shape"
     ],
     "language": "python",
     "metadata": {},
     "outputs": [
      {
       "metadata": {},
       "output_type": "pyout",
       "prompt_number": 8,
       "text": [
        "(465, 171264)"
       ]
      }
     ],
     "prompt_number": 8
    },
    {
     "cell_type": "code",
     "collapsed": false,
     "input": [
      "lsa = TruncatedSVD(n_components=27, n_iter=100)\n",
      "lsa.fit(X)"
     ],
     "language": "python",
     "metadata": {},
     "outputs": [
      {
       "metadata": {},
       "output_type": "pyout",
       "prompt_number": 9,
       "text": [
        "TruncatedSVD(algorithm='randomized', n_components=27, n_iter=100,\n",
        "       random_state=None, tol=0.0)"
       ]
      }
     ],
     "prompt_number": 9
    },
    {
     "cell_type": "code",
     "collapsed": false,
     "input": [
      "#This is the first row for V\n",
      "lsa.components_[0]"
     ],
     "language": "python",
     "metadata": {},
     "outputs": [
      {
       "metadata": {},
       "output_type": "pyout",
       "prompt_number": 10,
       "text": [
        "array([ 0.00048479,  0.00048479,  0.00048479, ...,  0.0006086 ,\n",
        "        0.0006086 ,  0.0006086 ])"
       ]
      }
     ],
     "prompt_number": 10
    },
    {
     "cell_type": "code",
     "collapsed": false,
     "input": [
      "terms = vectorizer.get_feature_names()\n",
      "for i, comp in enumerate(lsa.components_): \n",
      "    termsInComp = zip (terms,comp)\n",
      "    sortedTerms =  sorted(termsInComp, key=lambda x: x[1], reverse=True) [:10]\n",
      "    print \"Concept %d:\" % i\n",
      "    for term in sortedTerms:\n",
      "        print term[0]\n",
      "    print \" \""
     ],
     "language": "python",
     "metadata": {},
     "outputs": [
      {
       "output_type": "stream",
       "stream": "stdout",
       "text": [
        "Concept 0:\n",
        "edu\n",
        "com\n",
        "cramer\n",
        "men\n",
        "optilink\n",
        "people\n",
        "article\n",
        "gay\n",
        "writes\n",
        "ohio\n",
        " \n",
        "Concept 1:"
       ]
      },
      {
       "output_type": "stream",
       "stream": "stdout",
       "text": [
        "\n",
        "men\n",
        "cramer\n",
        "optilink\n",
        "homosexual\n",
        "gay\n",
        "male\n",
        "sexual\n",
        "partners\n",
        "virginia\n",
        "clayton\n",
        " \n",
        "Concept 2:"
       ]
      },
      {
       "output_type": "stream",
       "stream": "stdout",
       "text": [
        "\n",
        "government\n",
        "re\n",
        "clayton\n",
        "university\n",
        "virginia\n",
        "cramer\n",
        "think\n",
        "mr\n",
        "make\n",
        "optilink com\n",
        " \n",
        "Concept 3:"
       ]
      },
      {
       "output_type": "stream",
       "stream": "stdout",
       "text": [
        "\n",
        "001116\n",
        "would\n",
        "thor\n",
        "insurance\n",
        "isc\n",
        "number sexual\n",
        "one\n",
        "optilink\n",
        "get\n",
        "health\n",
        " \n",
        "Concept 4:"
       ]
      },
      {
       "output_type": "stream",
       "stream": "stdout",
       "text": [
        "\n",
        "com\n",
        "drugs\n",
        "netcom\n",
        "001116 19872 news\n",
        "writes\n",
        "get\n",
        "netcom com\n",
        "000k\n",
        "like\n",
        "people\n",
        " \n",
        "Concept 5:"
       ]
      },
      {
       "output_type": "stream",
       "stream": "stdout",
       "text": [
        "\n",
        "re\n",
        "000k\n",
        "com\n",
        "article\n",
        "cramer\n",
        "optilink\n",
        "optilink com\n",
        "000k filthy\n",
        "com steve\n",
        "organization\n",
        " \n",
        "Concept 6:"
       ]
      },
      {
       "output_type": "stream",
       "stream": "stdout",
       "text": [
        "\n",
        "men\n",
        "edu\n",
        "partners\n",
        "001116\n",
        "state\n",
        "subject\n",
        "ohio state\n",
        "insurance\n",
        "acs ohio\n",
        "acs ohio state\n",
        " \n",
        "Concept 7:"
       ]
      },
      {
       "output_type": "stream",
       "stream": "stdout",
       "text": [
        "\n",
        "optilink\n",
        "isc\n",
        "ohio\n",
        "001116 19872 news\n",
        "ohio state edu\n",
        "state edu\n",
        "much\n",
        "many\n",
        "government\n",
        "cramer\n",
        " \n",
        "Concept 8:"
       ]
      },
      {
       "output_type": "stream",
       "stream": "stdout",
       "text": [
        "\n",
        "going\n",
        "000k\n",
        "mr stephanopoulos\n",
        "000k filthy\n",
        "subject re\n",
        "stephanopoulos\n",
        "001116\n",
        "ohio\n",
        "001338 21323\n",
        "writes article\n",
        " \n",
        "Concept 9:"
       ]
      },
      {
       "output_type": "stream",
       "stream": "stdout",
       "text": [
        "\n",
        "limbaugh\n",
        "hitler\n",
        "state\n",
        "mr limbaugh\n",
        "001338 21323\n",
        "would\n",
        "men\n",
        "america\n",
        "subject re\n",
        "nlns\n",
        " \n",
        "Concept 10:"
       ]
      },
      {
       "output_type": "stream",
       "stream": "stdout",
       "text": [
        "\n",
        "people\n",
        "gay\n",
        "000007 27707 mnemosyne\n",
        "jobs\n",
        "acs ohio\n",
        "acs ohio state\n",
        "magnus acs\n",
        "magnus acs ohio\n",
        "make\n",
        "could\n",
        " \n",
        "Concept 11:"
       ]
      },
      {
       "output_type": "stream",
       "stream": "stdout",
       "text": [
        "\n",
        "know\n",
        "state\n",
        "ohio\n",
        "posting host\n",
        "people\n",
        "men\n",
        "optilink\n",
        "lot\n",
        "clayton\n",
        "want\n",
        " \n",
        "Concept 12:"
       ]
      },
      {
       "output_type": "stream",
       "stream": "stdout",
       "text": [
        "\n",
        "re\n",
        "001338 21323\n",
        "would\n",
        "writes\n",
        "ohio state\n",
        "clayton\n",
        "com clayton cramer\n",
        "study gay\n",
        "study gay percentage\n",
        "000k filthy\n",
        " \n",
        "Concept 13:"
       ]
      },
      {
       "output_type": "stream",
       "stream": "stdout",
       "text": [
        "\n",
        "would\n",
        "001116 19872\n",
        "000k filthy\n",
        "much\n",
        "government\n",
        "host\n",
        "writes article\n",
        "001338 21323\n",
        "sex\n",
        "drugs\n",
        " \n",
        "Concept 14:"
       ]
      },
      {
       "output_type": "stream",
       "stream": "stdout",
       "text": [
        "\n",
        "000k\n",
        "get\n",
        "stephanopoulos\n",
        "mr stephanopoulos\n",
        "cramer\n",
        "subject\n",
        "power\n",
        "writes\n",
        "limbaugh\n",
        "001338 21323 magnus\n",
        " \n",
        "Concept 15:"
       ]
      },
      {
       "output_type": "stream",
       "stream": "stdout",
       "text": [
        "\n",
        "clayton\n",
        "state\n",
        "re\n",
        "people\n",
        "lines\n",
        "000k\n",
        "would\n",
        "sexual\n",
        "cramer\n",
        "like\n",
        " \n",
        "Concept 16:"
       ]
      },
      {
       "output_type": "stream",
       "stream": "stdout",
       "text": [
        "\n",
        "001338 21323\n",
        "article\n",
        "people\n",
        "optilink com\n",
        "posting\n",
        "limbaugh\n",
        "many\n",
        "001116 19872\n",
        "000007 27707 mnemosyne\n",
        "000k filthy\n",
        " \n",
        "Concept 17:"
       ]
      },
      {
       "output_type": "stream",
       "stream": "stdout",
       "text": [
        "\n",
        "lines\n",
        "one\n",
        "edu\n",
        "university\n",
        "homosexual\n",
        "way\n",
        "clayton cramer\n",
        "article\n",
        "think\n",
        "magnus\n",
        " \n",
        "Concept 18:"
       ]
      },
      {
       "output_type": "stream",
       "stream": "stdout",
       "text": [
        "\n",
        "re\n",
        "optilink\n",
        "subject\n",
        "000k\n",
        "know\n",
        "000k filthy rich\n",
        "000k filthy\n",
        "news\n",
        "lines\n",
        "001338\n",
        " \n",
        "Concept 19:"
       ]
      },
      {
       "output_type": "stream",
       "stream": "stdout",
       "text": [
        "\n",
        "people\n",
        "clayton\n",
        "ohio state\n",
        "com\n",
        "subject re\n",
        "know\n",
        "president\n",
        "subject\n",
        "jobs\n",
        "re\n",
        " \n",
        "Concept 20:"
       ]
      },
      {
       "output_type": "stream",
       "stream": "stdout",
       "text": [
        "\n",
        "000k filthy rich\n",
        "001338 21323\n",
        "would\n",
        "com\n",
        "want\n",
        "000007 27707 mnemosyne\n",
        "people\n",
        "netcom\n",
        "many\n",
        "drugs\n",
        " \n",
        "Concept 21:"
       ]
      },
      {
       "output_type": "stream",
       "stream": "stdout",
       "text": [
        "\n",
        "001338 21323\n",
        "article\n",
        "gay\n",
        "001116 19872\n",
        "optilink\n",
        "edu\n",
        "001116 19872 news\n",
        "fact\n",
        "get\n",
        "good\n",
        " \n",
        "Concept 22:"
       ]
      },
      {
       "output_type": "stream",
       "stream": "stdout",
       "text": [
        "\n",
        "re\n",
        "com\n",
        "posting\n",
        "subject\n",
        "000007 27707 mnemosyne\n",
        "writes article\n",
        "optilink\n",
        "subject re\n",
        "men\n",
        "clayton\n",
        " \n",
        "Concept 23:"
       ]
      },
      {
       "output_type": "stream",
       "stream": "stdout",
       "text": [
        "\n",
        "article\n",
        "writes\n",
        "men\n",
        "government\n",
        "subject re\n",
        "ohio state edu\n",
        "state edu\n",
        "get\n",
        "kaldis\n",
        "000007 27707 mnemosyne\n",
        " \n",
        "Concept 24:"
       ]
      },
      {
       "output_type": "stream",
       "stream": "stdout",
       "text": [
        "\n",
        "re\n",
        "cramer\n",
        "ohio state\n",
        "writes\n",
        "organization\n",
        "com\n",
        "health\n",
        "one\n",
        "many\n",
        "president\n",
        " \n",
        "Concept 25:"
       ]
      },
      {
       "output_type": "stream",
       "stream": "stdout",
       "text": [
        "\n",
        "com\n",
        "000k\n",
        "edu\n",
        "would\n",
        "001116 19872 news\n",
        "men\n",
        "001338 21323\n",
        "think\n",
        "host\n",
        "life\n",
        " \n",
        "Concept 26:"
       ]
      },
      {
       "output_type": "stream",
       "stream": "stdout",
       "text": [
        "\n",
        "organization\n",
        "000007 27707 mnemosyne\n",
        "host\n",
        "001338 21323 magnus\n",
        "like\n",
        "subject re\n",
        "free\n",
        "re\n",
        "article\n",
        "think\n",
        " \n"
       ]
      }
     ],
     "prompt_number": 11
    },
    {
     "cell_type": "markdown",
     "metadata": {},
     "source": [
      "### This is awesome. I ran this analysis on 3 different topics. Science, baseball and politics and the results are amazing. Agreed\n",
      "### that more clean up needs to be done using the stopwords by expandinig the stop words but the I am impressed by the power of this.For\n",
      "### example, in this politics topic, I can straight away see the bizz words like homesexuals, people, mr limbaugh, mr stephanapoulos,\n",
      "### healthcare, filithy, rich etc. The stuff that you hear on news channels. I am amazed..."
     ]
    },
    {
     "cell_type": "code",
     "collapsed": false,
     "input": [],
     "language": "python",
     "metadata": {},
     "outputs": []
    }
   ],
   "metadata": {}
  }
 ]
}