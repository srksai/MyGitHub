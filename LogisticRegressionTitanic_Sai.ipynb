{
 "metadata": {
  "name": "",
  "signature": "sha256:8e52852dd3dc74c2564c67aa05215d440077d11c0f3cef45037755e812154b40"
 },
 "nbformat": 3,
 "nbformat_minor": 0,
 "worksheets": [
  {
   "cells": [
    {
     "cell_type": "markdown",
     "metadata": {},
     "source": [
      "## Lecture 6 Lab - Predicting Survival on the Titanic using Logistic Regression\n",
      "\n",
      "\n",
      "###Data Prep\n",
      "First, I will start with some data prep to get my data ready to be used in a model"
     ]
    },
    {
     "cell_type": "code",
     "collapsed": false,
     "input": [
      "import pandas as pd\n",
      "%pylab inline\n",
      "from collections import Counter"
     ],
     "language": "python",
     "metadata": {},
     "outputs": [
      {
       "output_type": "stream",
       "stream": "stdout",
       "text": [
        "Populating the interactive namespace from numpy and matplotlib\n"
       ]
      }
     ],
     "prompt_number": 665
    },
    {
     "cell_type": "code",
     "collapsed": false,
     "input": [
      "#reading the data from the disk into memory\n",
      "df = pd.read_csv(\"train.csv\")"
     ],
     "language": "python",
     "metadata": {},
     "outputs": [],
     "prompt_number": 666
    },
    {
     "cell_type": "code",
     "collapsed": false,
     "input": [
      "df.shape"
     ],
     "language": "python",
     "metadata": {},
     "outputs": [
      {
       "metadata": {},
       "output_type": "pyout",
       "prompt_number": 667,
       "text": [
        "(891, 12)"
       ]
      }
     ],
     "prompt_number": 667
    },
    {
     "cell_type": "code",
     "collapsed": false,
     "input": [
      "for i in list(df):\n",
      "    print i"
     ],
     "language": "python",
     "metadata": {},
     "outputs": [
      {
       "output_type": "stream",
       "stream": "stdout",
       "text": [
        "PassengerId\n",
        "Survived\n",
        "Pclass\n",
        "Name\n",
        "Sex\n",
        "Age\n",
        "SibSp\n",
        "Parch\n",
        "Ticket\n",
        "Fare\n",
        "Cabin\n",
        "Embarked\n"
       ]
      }
     ],
     "prompt_number": 668
    },
    {
     "cell_type": "markdown",
     "metadata": {},
     "source": [
      "###Looking at the columns above, I dont think we need to use all of these for our regression as some of them have tons of data missing. So, lets clean up. So, the strategy with dealing with variables is this - go through each column and see if there any nulls. If there are nulls for that particular column, I am going to do one of two possibilities. 1) Based on the significance f the column and amount of missing data, I will either find a way to fill the nulls with using other data or if I perceive that, that column is not important or has too much missing data, I will nuke it. And I am ignoring Survival column in this as thats my dependent variable"
     ]
    },
    {
     "cell_type": "code",
     "collapsed": false,
     "input": [
      "df[df.PassengerId.isnull()].shape"
     ],
     "language": "python",
     "metadata": {},
     "outputs": [
      {
       "metadata": {},
       "output_type": "pyout",
       "prompt_number": 669,
       "text": [
        "(0, 12)"
       ]
      }
     ],
     "prompt_number": 669
    },
    {
     "cell_type": "code",
     "collapsed": false,
     "input": [
      "df[df.Pclass.isnull()].shape"
     ],
     "language": "python",
     "metadata": {},
     "outputs": [
      {
       "metadata": {},
       "output_type": "pyout",
       "prompt_number": 670,
       "text": [
        "(0, 12)"
       ]
      }
     ],
     "prompt_number": 670
    },
    {
     "cell_type": "code",
     "collapsed": false,
     "input": [
      "df[df.Sex.isnull()].shape"
     ],
     "language": "python",
     "metadata": {},
     "outputs": [
      {
       "metadata": {},
       "output_type": "pyout",
       "prompt_number": 671,
       "text": [
        "(0, 12)"
       ]
      }
     ],
     "prompt_number": 671
    },
    {
     "cell_type": "code",
     "collapsed": false,
     "input": [
      "df[df.Age.isnull()].shape"
     ],
     "language": "python",
     "metadata": {},
     "outputs": [
      {
       "metadata": {},
       "output_type": "pyout",
       "prompt_number": 672,
       "text": [
        "(177, 12)"
       ]
      }
     ],
     "prompt_number": 672
    },
    {
     "cell_type": "markdown",
     "metadata": {},
     "source": [
      "### Alright, age is important and easily replaceable by getting the mean. Lets fill in missing data"
     ]
    },
    {
     "cell_type": "code",
     "collapsed": false,
     "input": [
      "aveAge = df.Age.mean()"
     ],
     "language": "python",
     "metadata": {},
     "outputs": [],
     "prompt_number": 673
    },
    {
     "cell_type": "code",
     "collapsed": false,
     "input": [
      "df.Age = df.Age.fillna(value=aveAge)"
     ],
     "language": "python",
     "metadata": {},
     "outputs": [],
     "prompt_number": 674
    },
    {
     "cell_type": "code",
     "collapsed": false,
     "input": [
      "df[df.Age.isnull()].shape"
     ],
     "language": "python",
     "metadata": {},
     "outputs": [
      {
       "metadata": {},
       "output_type": "pyout",
       "prompt_number": 675,
       "text": [
        "(0, 12)"
       ]
      }
     ],
     "prompt_number": 675
    },
    {
     "cell_type": "code",
     "collapsed": false,
     "input": [
      "df[df.SibSp.isnull()].shape"
     ],
     "language": "python",
     "metadata": {},
     "outputs": [
      {
       "metadata": {},
       "output_type": "pyout",
       "prompt_number": 676,
       "text": [
        "(0, 12)"
       ]
      }
     ],
     "prompt_number": 676
    },
    {
     "cell_type": "code",
     "collapsed": false,
     "input": [
      "df[df.Parch.isnull()].shape"
     ],
     "language": "python",
     "metadata": {},
     "outputs": [
      {
       "metadata": {},
       "output_type": "pyout",
       "prompt_number": 677,
       "text": [
        "(0, 12)"
       ]
      }
     ],
     "prompt_number": 677
    },
    {
     "cell_type": "code",
     "collapsed": false,
     "input": [
      "df[df.Ticket.isnull()].shape"
     ],
     "language": "python",
     "metadata": {},
     "outputs": [
      {
       "metadata": {},
       "output_type": "pyout",
       "prompt_number": 678,
       "text": [
        "(0, 12)"
       ]
      }
     ],
     "prompt_number": 678
    },
    {
     "cell_type": "code",
     "collapsed": false,
     "input": [
      "df[df.Fare.isnull()].shape"
     ],
     "language": "python",
     "metadata": {},
     "outputs": [
      {
       "metadata": {},
       "output_type": "pyout",
       "prompt_number": 679,
       "text": [
        "(0, 12)"
       ]
      }
     ],
     "prompt_number": 679
    },
    {
     "cell_type": "code",
     "collapsed": false,
     "input": [
      "df[df.Cabin.isnull()].shape"
     ],
     "language": "python",
     "metadata": {},
     "outputs": [
      {
       "metadata": {},
       "output_type": "pyout",
       "prompt_number": 680,
       "text": [
        "(687, 12)"
       ]
      }
     ],
     "prompt_number": 680
    },
    {
     "cell_type": "markdown",
     "metadata": {},
     "source": [
      "###687 missing items is way too much for me to do something other nuking it."
     ]
    },
    {
     "cell_type": "code",
     "collapsed": false,
     "input": [
      "df = df.drop(['Cabin'], 1)"
     ],
     "language": "python",
     "metadata": {},
     "outputs": [],
     "prompt_number": 681
    },
    {
     "cell_type": "code",
     "collapsed": false,
     "input": [
      "df[df.Embarked.isnull()].shape"
     ],
     "language": "python",
     "metadata": {},
     "outputs": [
      {
       "metadata": {},
       "output_type": "pyout",
       "prompt_number": 682,
       "text": [
        "(2, 11)"
       ]
      }
     ],
     "prompt_number": 682
    },
    {
     "cell_type": "markdown",
     "metadata": {},
     "source": [
      "###Lets do something about the missing 2 by highest occurred value for Embarked and use that to fill the blank ones.I might visit this again if my AUC sucks..."
     ]
    },
    {
     "cell_type": "code",
     "collapsed": false,
     "input": [
      "uniqueValueCount = Counter(df.Embarked.values)\n",
      "print uniqueValueCount"
     ],
     "language": "python",
     "metadata": {},
     "outputs": [
      {
       "output_type": "stream",
       "stream": "stdout",
       "text": [
        "Counter({'S': 644, 'C': 168, 'Q': 77, nan: 2})\n"
       ]
      }
     ],
     "prompt_number": 683
    },
    {
     "cell_type": "code",
     "collapsed": false,
     "input": [
      "df.Embarked = df.Embarked.fillna(value=\"S\")"
     ],
     "language": "python",
     "metadata": {},
     "outputs": [],
     "prompt_number": 684
    },
    {
     "cell_type": "code",
     "collapsed": false,
     "input": [
      "df[df.Embarked.isnull()].shape"
     ],
     "language": "python",
     "metadata": {},
     "outputs": [
      {
       "metadata": {},
       "output_type": "pyout",
       "prompt_number": 685,
       "text": [
        "(0, 11)"
       ]
      }
     ],
     "prompt_number": 685
    },
    {
     "cell_type": "code",
     "collapsed": false,
     "input": [
      "for i in list(df):\n",
      "    print i"
     ],
     "language": "python",
     "metadata": {},
     "outputs": [
      {
       "output_type": "stream",
       "stream": "stdout",
       "text": [
        "PassengerId\n",
        "Survived\n",
        "Pclass\n",
        "Name\n",
        "Sex\n",
        "Age\n",
        "SibSp\n",
        "Parch\n",
        "Ticket\n",
        "Fare\n",
        "Embarked\n"
       ]
      }
     ],
     "prompt_number": 686
    },
    {
     "cell_type": "code",
     "collapsed": false,
     "input": [
      "#Lets get a clean df now.I'm going to create a new dataframe and put only the three variables I'm going to be using into it.\n",
      "###I am going to have to ignore PassengerId, Ticket and Name in this clean stuff\n",
      "X = pd.DataFrame()\n",
      "X['survived'] = df['Survived']\n",
      "X['pclass'] = df['Pclass']\n",
      "X['sex'] = df['Sex']\n",
      "X['age'] = df['Age']\n",
      "X['sibsp'] = df['SibSp']\n",
      "X['parch'] = df['Parch']\n",
      "X['fare'] = df['Fare']\n",
      "X['embarked'] = df['Embarked']"
     ],
     "language": "python",
     "metadata": {},
     "outputs": [],
     "prompt_number": 687
    },
    {
     "cell_type": "code",
     "collapsed": false,
     "input": [
      "#survived will be my dependent variable, y.   I'll assign it to y and remove it from X\n",
      "y = X['survived']\n",
      "X = X.drop(['survived'], axis=1)"
     ],
     "language": "python",
     "metadata": {},
     "outputs": [],
     "prompt_number": 688
    },
    {
     "cell_type": "code",
     "collapsed": false,
     "input": [
      "pd.get_dummies(X.sex)"
     ],
     "language": "python",
     "metadata": {},
     "outputs": [
      {
       "html": [
        "<div style=\"max-height:1000px;max-width:1500px;overflow:auto;\">\n",
        "<table border=\"1\" class=\"dataframe\">\n",
        "  <thead>\n",
        "    <tr style=\"text-align: right;\">\n",
        "      <th></th>\n",
        "      <th>female</th>\n",
        "      <th>male</th>\n",
        "    </tr>\n",
        "  </thead>\n",
        "  <tbody>\n",
        "    <tr>\n",
        "      <th>0  </th>\n",
        "      <td> 0</td>\n",
        "      <td> 1</td>\n",
        "    </tr>\n",
        "    <tr>\n",
        "      <th>1  </th>\n",
        "      <td> 1</td>\n",
        "      <td> 0</td>\n",
        "    </tr>\n",
        "    <tr>\n",
        "      <th>2  </th>\n",
        "      <td> 1</td>\n",
        "      <td> 0</td>\n",
        "    </tr>\n",
        "    <tr>\n",
        "      <th>3  </th>\n",
        "      <td> 1</td>\n",
        "      <td> 0</td>\n",
        "    </tr>\n",
        "    <tr>\n",
        "      <th>4  </th>\n",
        "      <td> 0</td>\n",
        "      <td> 1</td>\n",
        "    </tr>\n",
        "    <tr>\n",
        "      <th>5  </th>\n",
        "      <td> 0</td>\n",
        "      <td> 1</td>\n",
        "    </tr>\n",
        "    <tr>\n",
        "      <th>6  </th>\n",
        "      <td> 0</td>\n",
        "      <td> 1</td>\n",
        "    </tr>\n",
        "    <tr>\n",
        "      <th>7  </th>\n",
        "      <td> 0</td>\n",
        "      <td> 1</td>\n",
        "    </tr>\n",
        "    <tr>\n",
        "      <th>8  </th>\n",
        "      <td> 1</td>\n",
        "      <td> 0</td>\n",
        "    </tr>\n",
        "    <tr>\n",
        "      <th>9  </th>\n",
        "      <td> 1</td>\n",
        "      <td> 0</td>\n",
        "    </tr>\n",
        "    <tr>\n",
        "      <th>10 </th>\n",
        "      <td> 1</td>\n",
        "      <td> 0</td>\n",
        "    </tr>\n",
        "    <tr>\n",
        "      <th>11 </th>\n",
        "      <td> 1</td>\n",
        "      <td> 0</td>\n",
        "    </tr>\n",
        "    <tr>\n",
        "      <th>12 </th>\n",
        "      <td> 0</td>\n",
        "      <td> 1</td>\n",
        "    </tr>\n",
        "    <tr>\n",
        "      <th>13 </th>\n",
        "      <td> 0</td>\n",
        "      <td> 1</td>\n",
        "    </tr>\n",
        "    <tr>\n",
        "      <th>14 </th>\n",
        "      <td> 1</td>\n",
        "      <td> 0</td>\n",
        "    </tr>\n",
        "    <tr>\n",
        "      <th>15 </th>\n",
        "      <td> 1</td>\n",
        "      <td> 0</td>\n",
        "    </tr>\n",
        "    <tr>\n",
        "      <th>16 </th>\n",
        "      <td> 0</td>\n",
        "      <td> 1</td>\n",
        "    </tr>\n",
        "    <tr>\n",
        "      <th>17 </th>\n",
        "      <td> 0</td>\n",
        "      <td> 1</td>\n",
        "    </tr>\n",
        "    <tr>\n",
        "      <th>18 </th>\n",
        "      <td> 1</td>\n",
        "      <td> 0</td>\n",
        "    </tr>\n",
        "    <tr>\n",
        "      <th>19 </th>\n",
        "      <td> 1</td>\n",
        "      <td> 0</td>\n",
        "    </tr>\n",
        "    <tr>\n",
        "      <th>20 </th>\n",
        "      <td> 0</td>\n",
        "      <td> 1</td>\n",
        "    </tr>\n",
        "    <tr>\n",
        "      <th>21 </th>\n",
        "      <td> 0</td>\n",
        "      <td> 1</td>\n",
        "    </tr>\n",
        "    <tr>\n",
        "      <th>22 </th>\n",
        "      <td> 1</td>\n",
        "      <td> 0</td>\n",
        "    </tr>\n",
        "    <tr>\n",
        "      <th>23 </th>\n",
        "      <td> 0</td>\n",
        "      <td> 1</td>\n",
        "    </tr>\n",
        "    <tr>\n",
        "      <th>24 </th>\n",
        "      <td> 1</td>\n",
        "      <td> 0</td>\n",
        "    </tr>\n",
        "    <tr>\n",
        "      <th>25 </th>\n",
        "      <td> 1</td>\n",
        "      <td> 0</td>\n",
        "    </tr>\n",
        "    <tr>\n",
        "      <th>26 </th>\n",
        "      <td> 0</td>\n",
        "      <td> 1</td>\n",
        "    </tr>\n",
        "    <tr>\n",
        "      <th>27 </th>\n",
        "      <td> 0</td>\n",
        "      <td> 1</td>\n",
        "    </tr>\n",
        "    <tr>\n",
        "      <th>28 </th>\n",
        "      <td> 1</td>\n",
        "      <td> 0</td>\n",
        "    </tr>\n",
        "    <tr>\n",
        "      <th>29 </th>\n",
        "      <td> 0</td>\n",
        "      <td> 1</td>\n",
        "    </tr>\n",
        "    <tr>\n",
        "      <th>...</th>\n",
        "      <td>...</td>\n",
        "      <td>...</td>\n",
        "    </tr>\n",
        "    <tr>\n",
        "      <th>861</th>\n",
        "      <td> 0</td>\n",
        "      <td> 1</td>\n",
        "    </tr>\n",
        "    <tr>\n",
        "      <th>862</th>\n",
        "      <td> 1</td>\n",
        "      <td> 0</td>\n",
        "    </tr>\n",
        "    <tr>\n",
        "      <th>863</th>\n",
        "      <td> 1</td>\n",
        "      <td> 0</td>\n",
        "    </tr>\n",
        "    <tr>\n",
        "      <th>864</th>\n",
        "      <td> 0</td>\n",
        "      <td> 1</td>\n",
        "    </tr>\n",
        "    <tr>\n",
        "      <th>865</th>\n",
        "      <td> 1</td>\n",
        "      <td> 0</td>\n",
        "    </tr>\n",
        "    <tr>\n",
        "      <th>866</th>\n",
        "      <td> 1</td>\n",
        "      <td> 0</td>\n",
        "    </tr>\n",
        "    <tr>\n",
        "      <th>867</th>\n",
        "      <td> 0</td>\n",
        "      <td> 1</td>\n",
        "    </tr>\n",
        "    <tr>\n",
        "      <th>868</th>\n",
        "      <td> 0</td>\n",
        "      <td> 1</td>\n",
        "    </tr>\n",
        "    <tr>\n",
        "      <th>869</th>\n",
        "      <td> 0</td>\n",
        "      <td> 1</td>\n",
        "    </tr>\n",
        "    <tr>\n",
        "      <th>870</th>\n",
        "      <td> 0</td>\n",
        "      <td> 1</td>\n",
        "    </tr>\n",
        "    <tr>\n",
        "      <th>871</th>\n",
        "      <td> 1</td>\n",
        "      <td> 0</td>\n",
        "    </tr>\n",
        "    <tr>\n",
        "      <th>872</th>\n",
        "      <td> 0</td>\n",
        "      <td> 1</td>\n",
        "    </tr>\n",
        "    <tr>\n",
        "      <th>873</th>\n",
        "      <td> 0</td>\n",
        "      <td> 1</td>\n",
        "    </tr>\n",
        "    <tr>\n",
        "      <th>874</th>\n",
        "      <td> 1</td>\n",
        "      <td> 0</td>\n",
        "    </tr>\n",
        "    <tr>\n",
        "      <th>875</th>\n",
        "      <td> 1</td>\n",
        "      <td> 0</td>\n",
        "    </tr>\n",
        "    <tr>\n",
        "      <th>876</th>\n",
        "      <td> 0</td>\n",
        "      <td> 1</td>\n",
        "    </tr>\n",
        "    <tr>\n",
        "      <th>877</th>\n",
        "      <td> 0</td>\n",
        "      <td> 1</td>\n",
        "    </tr>\n",
        "    <tr>\n",
        "      <th>878</th>\n",
        "      <td> 0</td>\n",
        "      <td> 1</td>\n",
        "    </tr>\n",
        "    <tr>\n",
        "      <th>879</th>\n",
        "      <td> 1</td>\n",
        "      <td> 0</td>\n",
        "    </tr>\n",
        "    <tr>\n",
        "      <th>880</th>\n",
        "      <td> 1</td>\n",
        "      <td> 0</td>\n",
        "    </tr>\n",
        "    <tr>\n",
        "      <th>881</th>\n",
        "      <td> 0</td>\n",
        "      <td> 1</td>\n",
        "    </tr>\n",
        "    <tr>\n",
        "      <th>882</th>\n",
        "      <td> 1</td>\n",
        "      <td> 0</td>\n",
        "    </tr>\n",
        "    <tr>\n",
        "      <th>883</th>\n",
        "      <td> 0</td>\n",
        "      <td> 1</td>\n",
        "    </tr>\n",
        "    <tr>\n",
        "      <th>884</th>\n",
        "      <td> 0</td>\n",
        "      <td> 1</td>\n",
        "    </tr>\n",
        "    <tr>\n",
        "      <th>885</th>\n",
        "      <td> 1</td>\n",
        "      <td> 0</td>\n",
        "    </tr>\n",
        "    <tr>\n",
        "      <th>886</th>\n",
        "      <td> 0</td>\n",
        "      <td> 1</td>\n",
        "    </tr>\n",
        "    <tr>\n",
        "      <th>887</th>\n",
        "      <td> 1</td>\n",
        "      <td> 0</td>\n",
        "    </tr>\n",
        "    <tr>\n",
        "      <th>888</th>\n",
        "      <td> 1</td>\n",
        "      <td> 0</td>\n",
        "    </tr>\n",
        "    <tr>\n",
        "      <th>889</th>\n",
        "      <td> 0</td>\n",
        "      <td> 1</td>\n",
        "    </tr>\n",
        "    <tr>\n",
        "      <th>890</th>\n",
        "      <td> 0</td>\n",
        "      <td> 1</td>\n",
        "    </tr>\n",
        "  </tbody>\n",
        "</table>\n",
        "<p>891 rows \u00d7 2 columns</p>\n",
        "</div>"
       ],
       "metadata": {},
       "output_type": "pyout",
       "prompt_number": 689,
       "text": [
        "     female  male\n",
        "0         0     1\n",
        "1         1     0\n",
        "2         1     0\n",
        "3         1     0\n",
        "4         0     1\n",
        "5         0     1\n",
        "6         0     1\n",
        "7         0     1\n",
        "8         1     0\n",
        "9         1     0\n",
        "10        1     0\n",
        "11        1     0\n",
        "12        0     1\n",
        "13        0     1\n",
        "14        1     0\n",
        "15        1     0\n",
        "16        0     1\n",
        "17        0     1\n",
        "18        1     0\n",
        "19        1     0\n",
        "20        0     1\n",
        "21        0     1\n",
        "22        1     0\n",
        "23        0     1\n",
        "24        1     0\n",
        "25        1     0\n",
        "26        0     1\n",
        "27        0     1\n",
        "28        1     0\n",
        "29        0     1\n",
        "..      ...   ...\n",
        "861       0     1\n",
        "862       1     0\n",
        "863       1     0\n",
        "864       0     1\n",
        "865       1     0\n",
        "866       1     0\n",
        "867       0     1\n",
        "868       0     1\n",
        "869       0     1\n",
        "870       0     1\n",
        "871       1     0\n",
        "872       0     1\n",
        "873       0     1\n",
        "874       1     0\n",
        "875       1     0\n",
        "876       0     1\n",
        "877       0     1\n",
        "878       0     1\n",
        "879       1     0\n",
        "880       1     0\n",
        "881       0     1\n",
        "882       1     0\n",
        "883       0     1\n",
        "884       0     1\n",
        "885       1     0\n",
        "886       0     1\n",
        "887       1     0\n",
        "888       1     0\n",
        "889       0     1\n",
        "890       0     1\n",
        "\n",
        "[891 rows x 2 columns]"
       ]
      }
     ],
     "prompt_number": 689
    },
    {
     "cell_type": "markdown",
     "metadata": {},
     "source": [
      "###Lets One Hot encode our variables. Fancy term for binary representation of the active state :-)"
     ]
    },
    {
     "cell_type": "code",
     "collapsed": false,
     "input": [
      "X['sex'] = pd.get_dummies(X.sex)['female']\n",
      "X.fare = pd.qcut(X.fare,q=5)\n",
      "my_fare = pd.get_dummies(X['fare'], prefix='fare')\n",
      "my_fare.columns = ['fare_1', 'fare_2', 'fare_3', 'fare_4', 'fare_5']\n",
      "my_pclass = pd.get_dummies(X['pclass'], prefix='pclass')"
     ],
     "language": "python",
     "metadata": {},
     "outputs": [],
     "prompt_number": 690
    },
    {
     "cell_type": "code",
     "collapsed": false,
     "input": [
      "X = X[['sex','sibsp', 'age', 'parch']].join(my_fare.ix[:, 'fare_3':]).join(my_pclass.ix[:, 'pclass_mine':])"
     ],
     "language": "python",
     "metadata": {},
     "outputs": [],
     "prompt_number": 691
    },
    {
     "cell_type": "code",
     "collapsed": false,
     "input": [
      "print(X)"
     ],
     "language": "python",
     "metadata": {},
     "outputs": [
      {
       "output_type": "stream",
       "stream": "stdout",
       "text": [
        "     sex  sibsp        age  parch  fare_3  fare_4  fare_5\n",
        "0      0      1  22.000000      0       0       0       1\n",
        "1      1      1  38.000000      0       1       0       0\n",
        "2      1      0  26.000000      0       0       1       0\n",
        "3      1      1  35.000000      0       1       0       0\n",
        "4      0      0  35.000000      0       0       1       0\n",
        "5      0      0  29.699118      0       0       1       0\n",
        "6      0      0  54.000000      0       1       0       0\n",
        "7      0      3   2.000000      1       0       0       0\n",
        "8      1      0  27.000000      2       0       0       0\n",
        "9      1      1  14.000000      0       0       0       0\n",
        "10     1      1   4.000000      1       0       0       0\n",
        "11     1      0  58.000000      0       0       0       0\n",
        "12     0      0  20.000000      0       0       1       0\n",
        "13     0      1  39.000000      5       0       0       0\n",
        "14     1      0  14.000000      0       0       0       1\n",
        "15     1      0  55.000000      0       0       0       0\n",
        "16     0      4   2.000000      1       0       0       0\n",
        "17     0      0  29.699118      0       0       0       0\n",
        "18     1      1  31.000000      0       0       0       0\n",
        "19     1      0  29.699118      0       0       0       1\n",
        "20     0      0  35.000000      0       0       0       0\n",
        "21     0      0  34.000000      0       0       0       0\n",
        "22     1      0  15.000000      0       0       1       0\n",
        "23     0      0  28.000000      0       0       0       0\n",
        "24     1      3   8.000000      1       0       0       0\n",
        "25     1      1  38.000000      5       0       0       0\n",
        "26     0      0  29.699118      0       0       0       1\n",
        "27     0      3  19.000000      2       1       0       0\n",
        "28     1      0  29.699118      0       0       1       0\n",
        "29     0      0  29.699118      0       0       1       0\n",
        "..   ...    ...        ...    ...     ...     ...     ...\n",
        "861    0      1  21.000000      0       0       0       0\n",
        "862    1      0  48.000000      0       0       0       0\n",
        "863    1      8  29.699118      2       1       0       0\n",
        "864    0      0  24.000000      0       0       0       0\n",
        "865    1      0  42.000000      0       0       0       0\n",
        "866    1      1  27.000000      0       0       0       0\n",
        "867    0      0  31.000000      0       1       0       0\n",
        "868    0      0  29.699118      0       0       1       0\n",
        "869    0      1   4.000000      1       0       0       0\n",
        "870    0      0  26.000000      0       0       1       0\n",
        "871    1      1  47.000000      1       1       0       0\n",
        "872    0      0  33.000000      0       0       0       1\n",
        "873    0      0  47.000000      0       0       1       0\n",
        "874    1      1  28.000000      0       0       0       0\n",
        "875    1      0  15.000000      0       0       0       1\n",
        "876    0      0  20.000000      0       0       1       0\n",
        "877    0      0  19.000000      0       0       1       0\n",
        "878    0      0  29.699118      0       0       1       0\n",
        "879    1      0  56.000000      1       1       0       0\n",
        "880    1      0  25.000000      1       0       0       0\n",
        "881    0      0  33.000000      0       0       1       0\n",
        "882    1      0  22.000000      0       0       0       0\n",
        "883    0      0  28.000000      0       0       1       0\n",
        "884    0      0  25.000000      0       0       0       1\n",
        "885    1      0  39.000000      5       0       0       0\n",
        "886    0      0  27.000000      0       0       0       0\n",
        "887    1      0  19.000000      0       0       0       0\n",
        "888    1      1  29.699118      2       0       0       0\n",
        "889    0      0  26.000000      0       0       0       0\n",
        "890    0      0  32.000000      0       0       0       1\n",
        "\n",
        "[891 rows x 7 columns]\n"
       ]
      }
     ],
     "prompt_number": 692
    },
    {
     "cell_type": "code",
     "collapsed": false,
     "input": [
      "#remember to scale our features, as with linear regression\n",
      "from sklearn.cross_validation import train_test_split\n",
      "from sklearn.preprocessing import StandardScaler\n",
      "scaler = StandardScaler()\n",
      "X= scaler.fit_transform(X)"
     ],
     "language": "python",
     "metadata": {},
     "outputs": [],
     "prompt_number": 693
    },
    {
     "cell_type": "code",
     "collapsed": false,
     "input": [
      "#build test and training sets\n",
      "X_train, X_test, y_train, y_test = train_test_split(X, y, test_size=0.07, random_state=42)"
     ],
     "language": "python",
     "metadata": {},
     "outputs": [],
     "prompt_number": 694
    },
    {
     "cell_type": "markdown",
     "metadata": {},
     "source": [
      "### Model Creation\n",
      "At this point I have a test and train set defined.  I will use train to train my model and test to see how accurate the model is.\n",
      "\n",
      "There's one problem with that though.   Lets say my model is right 70% of the time.   Is that good?  Maybe?   \n",
      "\n",
      "I'm going to build a simple 'base rate' model to compare my logistic model to, so we can see if our logistic model is useful or not.  \n",
      "\n",
      "Then, I'll build my logistic model.\n",
      "\n",
      "\n",
      "####Base Rate Model\n",
      "For my baserate model, I'm going to predict that everyone dies."
     ]
    },
    {
     "cell_type": "code",
     "collapsed": false,
     "input": [
      "#This function looks for females in the test set and returns 1, survived, otherwise it returns 0\n",
      "def base_rate_model(X):\n",
      "    y = np.zeros(X.shape[0])\n",
      "    return y    "
     ],
     "language": "python",
     "metadata": {},
     "outputs": [],
     "prompt_number": 695
    },
    {
     "cell_type": "code",
     "collapsed": false,
     "input": [
      "#how accurate is my base rate model?\n",
      "y_base_rate = base_rate_model(X_test)\n",
      "from sklearn.metrics import accuracy_score\n",
      "print \"Base rate accuracy is %2.2f\" % accuracy_score(y_test, y_base_rate)"
     ],
     "language": "python",
     "metadata": {},
     "outputs": [
      {
       "output_type": "stream",
       "stream": "stdout",
       "text": [
        "Base rate accuracy is 0.57\n"
       ]
      }
     ],
     "prompt_number": 696
    },
    {
     "cell_type": "markdown",
     "metadata": {},
     "source": [
      "So, our base model is 59% correct, lets see if logistic can beat it."
     ]
    },
    {
     "cell_type": "code",
     "collapsed": false,
     "input": [
      "from sklearn.linear_model import LogisticRegression\n",
      "model = LogisticRegression(penalty='l2', C=0.8)"
     ],
     "language": "python",
     "metadata": {},
     "outputs": [],
     "prompt_number": 697
    },
    {
     "cell_type": "code",
     "collapsed": false,
     "input": [
      "model.fit(X_train, y_train)"
     ],
     "language": "python",
     "metadata": {},
     "outputs": [
      {
       "metadata": {},
       "output_type": "pyout",
       "prompt_number": 698,
       "text": [
        "LogisticRegression(C=0.8, class_weight=None, dual=False, fit_intercept=True,\n",
        "          intercept_scaling=1, penalty='l2', random_state=None, tol=0.0001)"
       ]
      }
     ],
     "prompt_number": 698
    },
    {
     "cell_type": "code",
     "collapsed": false,
     "input": [
      "print \"Logistic accuracy is %2.2f\" % accuracy_score(y_test,model.predict(X_test))"
     ],
     "language": "python",
     "metadata": {},
     "outputs": [
      {
       "output_type": "stream",
       "stream": "stdout",
       "text": [
        "Logistic accuracy is 0.84\n"
       ]
      }
     ],
     "prompt_number": 699
    },
    {
     "cell_type": "markdown",
     "metadata": {},
     "source": [
      "### Model Comparison\n",
      "\n",
      "Our base model wasn't very good, but it looked better than it was because of class imbalance.  There are many more 0s than 1s in our dataset, so if we just guess 0 we can 'cheat.'\n",
      "\n",
      "A better metric for binary classifer comparisons is AUC or area under the curve. \n",
      "\n",
      "Closely related is [precision and recall](http://scikit-learn.org/stable/auto_examples/plot_precision_recall.html).\n",
      "\n",
      "Precision is the fraction of correctly identified examples of a class (ratio of true positives to all positives).\n",
      "\n",
      "Recall is the fraction of observastions classified in that class that was correctly classified.  \n",
      "\n",
      "Think of fishing with a net for tuna.   \n",
      "*  If our net is very precise, and has high recall it will catch any and all tuna and ONLY tuna.\n",
      "*  If our net is very precise, but has low recall then we might catch one tuna, but most will escape.\n",
      "*  If our net is low precision, but has high recall, then we might catch tuna, but also any other fish around\n",
      "*  If our net is low precision, and low recall, then we should probably give up fishing.   \n"
     ]
    },
    {
     "cell_type": "code",
     "collapsed": false,
     "input": [
      "from sklearn.metrics import roc_auc_score\n",
      "from sklearn.metrics import classification_report"
     ],
     "language": "python",
     "metadata": {},
     "outputs": [],
     "prompt_number": 700
    },
    {
     "cell_type": "code",
     "collapsed": false,
     "input": [
      "print \"---Base Model---\"\n",
      "#base rate AUC\n",
      "base_roc_auc = roc_auc_score(y_test, base_rate_model(X_test))\n",
      "print \"Base Rate AUC = %2.2f\" % base_roc_auc\n",
      "print classification_report(y_test,base_rate_model(X_test) )\n",
      "print \"\\n\\n---Logistic Model---\"\n",
      "#logistic AUC\n",
      "logit_roc_auc = roc_auc_score(y_test, model.predict(X_test))\n",
      "print \"Logistic AUC = %2.2f\" % logit_roc_auc\n",
      "print classification_report(y_test, model.predict(X_test) )"
     ],
     "language": "python",
     "metadata": {},
     "outputs": [
      {
       "output_type": "stream",
       "stream": "stdout",
       "text": [
        "---Base Model---\n",
        "Base Rate AUC = 0.50\n",
        "             precision    recall  f1-score   support\n",
        "\n",
        "          0       0.57      1.00      0.73        36\n",
        "          1       0.00      0.00      0.00        27\n",
        "\n",
        "avg / total       0.33      0.57      0.42        63\n",
        "\n",
        "\n",
        "\n",
        "---Logistic Model---\n",
        "Logistic AUC = 0.83\n",
        "             precision    recall  f1-score   support\n",
        "\n",
        "          0       0.82      0.92      0.87        36\n",
        "          1       0.87      0.74      0.80        27\n",
        "\n",
        "avg / total       0.84      0.84      0.84        63\n",
        "\n"
       ]
      }
     ],
     "prompt_number": 701
    },
    {
     "cell_type": "code",
     "collapsed": false,
     "input": [
      "from sklearn.metrics import roc_curve\n",
      "fpr, tpr, thresholds = roc_curve(y_test, model.predict_proba(X_test)[:,1])"
     ],
     "language": "python",
     "metadata": {},
     "outputs": [],
     "prompt_number": 702
    },
    {
     "cell_type": "code",
     "collapsed": false,
     "input": [
      "# Plot of a ROC curve for a specific class\n",
      "plt.figure()\n",
      "plt.plot(fpr, tpr, label='ROC curve (area = %0.2f)' % logit_roc_auc)\n",
      "plt.plot([0, 1], [0, 1], 'k--')\n",
      "plt.xlim([0.0, 1.0])\n",
      "plt.ylim([0.0, 1.05])\n",
      "plt.xlabel('False Positive Rate')\n",
      "plt.ylabel('True Positive Rate')\n",
      "plt.title('Receiver operating characteristic example')\n",
      "plt.legend(loc=\"lower right\")\n",
      "plt.show()"
     ],
     "language": "python",
     "metadata": {},
     "outputs": [
      {
       "metadata": {},
       "output_type": "display_data",
       "png": "[encoded data removed]",
       "text": [
        "<matplotlib.figure.Figure at 0x173a0978>"
       ]
      }
     ],
     "prompt_number": 703
    },
    {
     "cell_type": "code",
     "collapsed": false,
     "input": [],
     "language": "python",
     "metadata": {},
     "outputs": [],
     "prompt_number": 703
    }
   ],
   "metadata": {}
  }
 ]
}