{
 "metadata": {
  "name": "",
  "signature": "sha256:d289d4e10456454454cdc6fc63ef82ae5e27855c0bf35071c49776db4b84fc8e"
 },
 "nbformat": 3,
 "nbformat_minor": 0,
 "worksheets": [
  {
   "cells": [
    {
     "cell_type": "code",
     "collapsed": false,
     "input": [
      "import networkx as nx\n",
      "import matplotlib.pyplot as plt\n",
      "%matplotlib inline"
     ],
     "language": "python",
     "metadata": {},
     "outputs": [],
     "prompt_number": 22
    },
    {
     "cell_type": "code",
     "collapsed": false,
     "input": [
      "M=nx.read_gml(\"polblogs.gml\", relabel=True)"
     ],
     "language": "python",
     "metadata": {},
     "outputs": [],
     "prompt_number": 23
    },
    {
     "cell_type": "code",
     "collapsed": false,
     "input": [
      "# create weighted graph from M\n",
      "G = nx.Graph()\n",
      "for u,v,data in M.edges_iter(data=True):\n",
      "    if G.has_edge(u,v):\n",
      "        G[u][v]['weight'] += 1\n",
      "    else:\n",
      "        G.add_edge(u, v, weight=1)"
     ],
     "language": "python",
     "metadata": {},
     "outputs": []
    },
    {
     "cell_type": "markdown",
     "metadata": {},
     "source": [
      "### 1.  Create a nice looking graph of the political blog network"
     ]
    },
    {
     "cell_type": "code",
     "collapsed": false,
     "input": [
      "plt.figure(figsize=(50,50))\n",
      "pos=nx.spring_layout(G, iterations=500, scale=5, k=.3)\n",
      "nx.draw_networkx_labels(G,pos,fontsize=8)\n",
      "font = {'fontname'   : 'Arial',\n",
      "            'color'      : 'k',\n",
      "            'fontweight' : 'bold',\n",
      "            'fontsize'   : 15}\n",
      "plt.title(\"Political Blogs Site\", font)\n",
      "\n",
      "nx.draw_networkx_nodes(G,pos,node_color='b',alpha=0.2)\n",
      "nx.draw_networkx_edges(G,pos,alpha=0.2,node_size=0,width=1,edge_color='k')\n",
      "plt.axis('off')\n",
      "plt.show()"
     ],
     "language": "python",
     "metadata": {},
     "outputs": []
    },
    {
     "cell_type": "markdown",
     "metadata": {},
     "source": [
      "### 2.  What are the 10 most influential blogs?"
     ]
    },
    {
     "cell_type": "code",
     "collapsed": false,
     "input": [
      "centrality=nx.eigenvector_centrality(G)\n",
      "\n",
      "blog_list = []\n",
      "for node in centrality:\n",
      "    blog_list.append((node,centrality[node]))\n",
      "    \n",
      "sorted_blog_list = sorted(blog_list, key=lambda x: x[1], reverse = True)"
     ],
     "language": "python",
     "metadata": {},
     "outputs": []
    },
    {
     "cell_type": "code",
     "collapsed": false,
     "input": [
      "sorted_blog_list[:10]"
     ],
     "language": "python",
     "metadata": {},
     "outputs": []
    },
    {
     "cell_type": "markdown",
     "metadata": {},
     "source": [
      "### 3.  What are the 10 least influential blogs?"
     ]
    },
    {
     "cell_type": "code",
     "collapsed": false,
     "input": [
      "least_ordered_list = sorted(blog_list, key=lambda x: x[1], reverse = False)"
     ],
     "language": "python",
     "metadata": {},
     "outputs": []
    },
    {
     "cell_type": "code",
     "collapsed": false,
     "input": [
      "least_ordered_list[:10]"
     ],
     "language": "python",
     "metadata": {},
     "outputs": []
    },
    {
     "cell_type": "code",
     "collapsed": false,
     "input": [],
     "language": "python",
     "metadata": {},
     "outputs": [],
     "prompt_number": 16
    }
   ],
   "metadata": {}
  }
 ]
}