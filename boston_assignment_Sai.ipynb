{
 "metadata": {
  "name": "",
  "signature": "sha256:19a7fdb3f790d92ba04d0a21fe45b5f17dffc481815ead43a331c8e9058094c9"
 },
 "nbformat": 3,
 "nbformat_minor": 0,
 "worksheets": [
  {
   "cells": [
    {
     "cell_type": "markdown",
     "metadata": {},
     "source": [
      "## Boston Housing Assignment\n",
      "\n",
      "In this assignment you'll be using linear regression to estimate the cost of house in boston, using a well known dataset.\n",
      "\n",
      "Goals:\n",
      "+  Measure the performance of the model I created using $R^{2}$ and MSE\n",
      "> Learn how to use sklearn.metrics.r2_score and sklearn.metrics.mean_squared_error\n",
      "+  Implement a new model using L2 regularization\n",
      "> Use sklearn.linear_model.Ridge or sklearn.linear_model.Lasso \n",
      "+  Get the best model you can by optimizing the regularization parameter.   "
     ]
    },
    {
     "cell_type": "code",
     "collapsed": false,
     "input": [
      "from sklearn import datasets\n",
      "import pandas as pd\n",
      "from sklearn.preprocessing import StandardScaler\n",
      "from sklearn.cross_validation import train_test_split\n",
      "from sklearn.metrics import mean_squared_error\n",
      "from sklearn.metrics import r2_score\n",
      "from sklearn.linear_model import LinearRegression\n",
      "import math"
     ],
     "language": "python",
     "metadata": {},
     "outputs": [],
     "prompt_number": 1
    },
    {
     "cell_type": "code",
     "collapsed": false,
     "input": [
      "bean = datasets.load_boston()\n",
      "print bean.DESCR"
     ],
     "language": "python",
     "metadata": {},
     "outputs": [
      {
       "output_type": "stream",
       "stream": "stdout",
       "text": [
        "Boston House Prices dataset\n",
        "\n",
        "Notes\n",
        "------\n",
        "Data Set Characteristics:  \n",
        "\n",
        "    :Number of Instances: 506 \n",
        "\n",
        "    :Number of Attributes: 13 numeric/categorical predictive\n",
        "    \n",
        "    :Median Value (attribute 14) is usually the target\n",
        "\n",
        "    :Attribute Information (in order):\n",
        "        - CRIM     per capita crime rate by town\n",
        "        - ZN       proportion of residential land zoned for lots over 25,000 sq.ft.\n",
        "        - INDUS    proportion of non-retail business acres per town\n",
        "        - CHAS     Charles River dummy variable (= 1 if tract bounds river; 0 otherwise)\n",
        "        - NOX      nitric oxides concentration (parts per 10 million)\n",
        "        - RM       average number of rooms per dwelling\n",
        "        - AGE      proportion of owner-occupied units built prior to 1940\n",
        "        - DIS      weighted distances to five Boston employment centres\n",
        "        - RAD      index of accessibility to radial highways\n",
        "        - TAX      full-value property-tax rate per $10,000\n",
        "        - PTRATIO  pupil-teacher ratio by town\n",
        "        - B        1000(Bk - 0.63)^2 where Bk is the proportion of blacks by town\n",
        "        - LSTAT    % lower status of the population\n",
        "        - MEDV     Median value of owner-occupied homes in $1000's\n",
        "\n",
        "    :Missing Attribute Values: None\n",
        "\n",
        "    :Creator: Harrison, D. and Rubinfeld, D.L.\n",
        "\n",
        "This is a copy of UCI ML housing dataset.\n",
        "http://archive.ics.uci.edu/ml/datasets/Housing\n",
        "\n",
        "\n",
        "This dataset was taken from the StatLib library which is maintained at Carnegie Mellon University.\n",
        "\n",
        "The Boston house-price data of Harrison, D. and Rubinfeld, D.L. 'Hedonic\n",
        "prices and the demand for clean air', J. Environ. Economics & Management,\n",
        "vol.5, 81-102, 1978.   Used in Belsley, Kuh & Welsch, 'Regression diagnostics\n",
        "...', Wiley, 1980.   N.B. Various transformations are used in the table on\n",
        "pages 244-261 of the latter.\n",
        "\n",
        "The Boston house-price data has been used in many machine learning papers that address regression\n",
        "problems.   \n",
        "     \n",
        "**References**\n",
        "\n",
        "   - Belsley, Kuh & Welsch, 'Regression diagnostics: Identifying Influential Data and Sources of Collinearity', Wiley, 1980. 244-261.\n",
        "   - Quinlan,R. (1993). Combining Instance-Based and Model-Based Learning. In Proceedings on the Tenth International Conference of Machine Learning, 236-243, University of Massachusetts, Amherst. Morgan Kaufmann.\n",
        "   - many more! (see http://archive.ics.uci.edu/ml/datasets/Housing)\n",
        "\n"
       ]
      }
     ],
     "prompt_number": 2
    },
    {
     "cell_type": "code",
     "collapsed": false,
     "input": [
      "def load_boston():\n",
      "    scaler = StandardScaler()\n",
      "    boston = datasets.load_boston()\n",
      "    X=boston.data\n",
      "    y=boston.target\n",
      "    X = scaler.fit_transform(X)\n",
      "    return train_test_split(X,y)\n",
      "    "
     ],
     "language": "python",
     "metadata": {},
     "outputs": [],
     "prompt_number": 3
    },
    {
     "cell_type": "code",
     "collapsed": false,
     "input": [
      "X_train, X_test, y_train, y_test = load_boston()"
     ],
     "language": "python",
     "metadata": {},
     "outputs": [],
     "prompt_number": 4
    },
    {
     "cell_type": "code",
     "collapsed": false,
     "input": [
      "X_train.shape"
     ],
     "language": "python",
     "metadata": {},
     "outputs": [
      {
       "metadata": {},
       "output_type": "pyout",
       "prompt_number": 5,
       "text": [
        "(379L, 13L)"
       ]
      }
     ],
     "prompt_number": 5
    },
    {
     "cell_type": "markdown",
     "metadata": {},
     "source": [
      "### Fitting a Linear Regression\n",
      "\n",
      "It's as easy as instantiating a new regression object (line 1) and giving your regression object your training data\n",
      "(line 2) by calling .fit(independent variables, dependent variable)"
     ]
    },
    {
     "cell_type": "code",
     "collapsed": false,
     "input": [
      "clf = LinearRegression()\n",
      "clf.fit(X_train, y_train)"
     ],
     "language": "python",
     "metadata": {},
     "outputs": [
      {
       "metadata": {},
       "output_type": "pyout",
       "prompt_number": 6,
       "text": [
        "LinearRegression(copy_X=True, fit_intercept=True, normalize=False)"
       ]
      }
     ],
     "prompt_number": 6
    },
    {
     "cell_type": "markdown",
     "metadata": {},
     "source": [
      "### Making a Prediction\n",
      "X_test is our holdout set of data.  We know the answer (y_test) but the computer does not.   \n",
      "\n",
      "Using the command below, I create a tuple for each observation, where I'm combining the real value (y_test) with\n",
      "the value our regressor predicts (clf.predict(X_test))\n",
      "\n",
      "Use a similiar format to get your r2 and mse metrics working.  Using the [scikit learn api](http://scikit-learn.org/stable/modules/model_evaluation.html) if you need help!"
     ]
    },
    {
     "cell_type": "code",
     "collapsed": false,
     "input": [
      "zip (y_test, clf.predict(X_test))"
     ],
     "language": "python",
     "metadata": {},
     "outputs": [
      {
       "metadata": {},
       "output_type": "pyout",
       "prompt_number": 7,
       "text": [
        "[(7.0, 9.6592157022453353),\n",
        " (12.699999999999999, 11.314682930734325),\n",
        " (24.699999999999999, 22.643559890335069),\n",
        " (8.4000000000000004, 14.384560673815995),\n",
        " (30.100000000000001, 25.010360333481032),\n",
        " (14.6, 19.280359422533643),\n",
        " (20.699999999999999, 25.312188565784357),\n",
        " (19.5, 18.634377211964853),\n",
        " (19.399999999999999, 23.367849284782192),\n",
        " (29.800000000000001, 25.993060408419545),\n",
        " (29.100000000000001, 30.085087962059085),\n",
        " (19.899999999999999, 17.944378056692791),\n",
        " (24.5, 27.390402483289066),\n",
        " (23.0, 23.594695294278953),\n",
        " (15.6, 15.651692141016573),\n",
        " (26.600000000000001, 27.993813346294402),\n",
        " (22.800000000000001, 27.187892680860514),\n",
        " (20.300000000000001, 22.683722123898519),\n",
        " (23.100000000000001, 20.326764056055637),\n",
        " (13.800000000000001, 16.27165868110152),\n",
        " (20.0, 23.357556081924464),\n",
        " (22.0, 26.337468922274919),\n",
        " (21.600000000000001, 25.158426779022879),\n",
        " (14.9, 17.2782163540667),\n",
        " (29.100000000000001, 31.526105709953626),\n",
        " (45.399999999999999, 39.034050795084852),\n",
        " (20.199999999999999, 15.70870997167253),\n",
        " (23.5, 30.258335198309901),\n",
        " (30.5, 30.746379348277664),\n",
        " (21.899999999999999, 38.468459307820346),\n",
        " (21.699999999999999, 23.118358066675263),\n",
        " (19.699999999999999, 21.122805558647965),\n",
        " (50.0, 44.086606697799319),\n",
        " (23.600000000000001, 30.986615122240419),\n",
        " (19.800000000000001, 22.136484026811125),\n",
        " (22.600000000000001, 19.50675279026331),\n",
        " (13.800000000000001, 5.841179663531225),\n",
        " (27.899999999999999, 19.748263721998892),\n",
        " (19.800000000000001, 18.418481417057325),\n",
        " (26.199999999999999, 24.129305590165774),\n",
        " (29.800000000000001, 32.707280732179498),\n",
        " (21.399999999999999, 24.745330005835761),\n",
        " (21.5, 24.992959795112807),\n",
        " (19.600000000000001, 18.84278614240349),\n",
        " (17.100000000000001, 20.030801248926789),\n",
        " (7.2000000000000002, 17.854025392716281),\n",
        " (16.399999999999999, 19.331224316519457),\n",
        " (50.0, 40.965783084436531),\n",
        " (50.0, 32.920883199032687),\n",
        " (16.600000000000001, 15.386749981439195),\n",
        " (23.300000000000001, 21.41248595841996),\n",
        " (15.0, 19.447796136544092),\n",
        " (18.399999999999999, 16.260124461485084),\n",
        " (38.700000000000003, 36.364474506993098),\n",
        " (24.399999999999999, 23.715886232956368),\n",
        " (23.800000000000001, 23.470815126991624),\n",
        " (12.699999999999999, 12.441198823220844),\n",
        " (30.300000000000001, 33.096002234189157),\n",
        " (22.0, 21.707523508408258),\n",
        " (8.5, 16.401287941888942),\n",
        " (16.199999999999999, 15.622068791118618),\n",
        " (13.300000000000001, 14.313730342617422),\n",
        " (13.6, 12.343690770284541),\n",
        " (23.100000000000001, 24.456664163358511),\n",
        " (16.300000000000001, 10.764266655955478),\n",
        " (29.0, 32.174151223017816),\n",
        " (36.200000000000003, 28.045328274716589),\n",
        " (21.899999999999999, 15.389513473458543),\n",
        " (15.4, 15.379948858504395),\n",
        " (24.300000000000001, 24.317042905872377),\n",
        " (21.600000000000001, 25.695920031881482),\n",
        " (16.699999999999999, 19.672751821865898),\n",
        " (8.3000000000000007, 12.400472628656816),\n",
        " (22.5, 29.190867048596225),\n",
        " (34.700000000000003, 30.869408633470943),\n",
        " (31.199999999999999, 28.772332804567),\n",
        " (23.0, 29.888816388937428),\n",
        " (14.5, 18.029830574669823),\n",
        " (13.199999999999999, 8.5368037687691221),\n",
        " (42.799999999999997, 30.471869147422179),\n",
        " (23.100000000000001, 24.82079781403171),\n",
        " (10.199999999999999, 16.708922101651801),\n",
        " (19.100000000000001, 24.854944855745604),\n",
        " (17.0, 23.078516728926761),\n",
        " (7.5, 13.147102530320485),\n",
        " (23.699999999999999, 27.307302848596304),\n",
        " (19.5, 20.058942975248215),\n",
        " (44.0, 37.432442674949087),\n",
        " (15.0, 13.362536238002953),\n",
        " (22.199999999999999, 21.847910045928039),\n",
        " (31.600000000000001, 32.567461227717843),\n",
        " (23.0, 23.654884328476449),\n",
        " (17.399999999999999, 17.402563954905702),\n",
        " (19.100000000000001, 17.090905745137384),\n",
        " (17.199999999999999, 16.579495030721837),\n",
        " (18.699999999999999, 21.23101224731969),\n",
        " (13.1, 20.546571128799929),\n",
        " (14.199999999999999, 18.197139301835215),\n",
        " (24.100000000000001, 29.386197874158484),\n",
        " (17.899999999999999, 0.61505241725779669),\n",
        " (10.199999999999999, 6.0559099303733177),\n",
        " (10.800000000000001, 11.291558661196603),\n",
        " (37.600000000000001, 38.040138645066051),\n",
        " (18.5, 25.674538966300251),\n",
        " (20.800000000000001, 23.681119729189671),\n",
        " (22.199999999999999, 25.712697606190293),\n",
        " (50.0, 34.968789270443921),\n",
        " (18.399999999999999, 19.046118355714118),\n",
        " (10.5, 5.3755865456668133),\n",
        " (11.699999999999999, 13.992662133324062),\n",
        " (12.800000000000001, 13.074567867908414),\n",
        " (10.199999999999999, 15.682613700490805),\n",
        " (36.200000000000003, 27.393958611169779),\n",
        " (8.5, 6.2348527376607059),\n",
        " (34.899999999999999, 35.037825617163456),\n",
        " (37.0, 31.244095045587173),\n",
        " (18.300000000000001, 20.808486229221621),\n",
        " (23.399999999999999, 23.998743754899216),\n",
        " (13.0, 17.411150319879908),\n",
        " (8.8000000000000007, 2.4146746734253028),\n",
        " (24.699999999999999, 24.851959232970426),\n",
        " (26.399999999999999, 28.861080845393204),\n",
        " (19.300000000000001, 21.133295619232779),\n",
        " (34.899999999999999, 30.38284614264397),\n",
        " (7.0, -6.1130526430868102),\n",
        " (24.800000000000001, 31.096434205616383),\n",
        " (17.699999999999999, 20.563671151033137)]"
       ]
      }
     ],
     "prompt_number": 7
    },
    {
     "cell_type": "markdown",
     "metadata": {},
     "source": [
      "### Now that we have a prediction by Mike, lets see how strong or weak this prediction is. So, lets do the R-Square magic by testing the performance of the X_test by passing y_test\n"
     ]
    },
    {
     "cell_type": "code",
     "collapsed": false,
     "input": [
      "r2Square = r2_score(y_test, clf.predict(X_test))\n",
      "print(r2Square)"
     ],
     "language": "python",
     "metadata": {},
     "outputs": [
      {
       "output_type": "stream",
       "stream": "stdout",
       "text": [
        "0.693145594404\n"
       ]
      }
     ],
     "prompt_number": 8
    },
    {
     "cell_type": "markdown",
     "metadata": {},
     "source": [
      "### ok, the R square which is a measure of the fit of the line that got drawn, seem to be closer to 1 and far away from 0. But the value of 0.7 is not that close to 1. So, I call this a decent fit and not a great fit. "
     ]
    },
    {
     "cell_type": "markdown",
     "metadata": {},
     "source": [
      "### Lets do the mean squared error"
     ]
    },
    {
     "cell_type": "code",
     "collapsed": false,
     "input": [
      "mse = mean_squared_error(y_test, clf.predict(X_test))\n",
      "print(mse)"
     ],
     "language": "python",
     "metadata": {},
     "outputs": [
      {
       "output_type": "stream",
       "stream": "stdout",
       "text": [
        "27.1504816121\n"
       ]
      }
     ],
     "prompt_number": 9
    },
    {
     "cell_type": "markdown",
     "metadata": {},
     "source": [
      "### Lets try RMSE"
     ]
    },
    {
     "cell_type": "code",
     "collapsed": false,
     "input": [
      "rMSE = math.sqrt(mse)\n",
      "print(rMSE)"
     ],
     "language": "python",
     "metadata": {},
     "outputs": [
      {
       "output_type": "stream",
       "stream": "stdout",
       "text": [
        "5.21061240279\n"
       ]
      }
     ],
     "prompt_number": 10
    },
    {
     "cell_type": "markdown",
     "metadata": {},
     "source": [
      "### Well, we certainly dont have a 0 MSE, which means that its not a super perfect fit (which probably wont ever happen) but without a second model to compare to, the MSE of 26.4 is probably tough to interpret"
     ]
    },
    {
     "cell_type": "markdown",
     "metadata": {},
     "source": [
      "### Lets test it"
     ]
    },
    {
     "cell_type": "code",
     "collapsed": false,
     "input": [
      "from sklearn.linear_model import Ridge"
     ],
     "language": "python",
     "metadata": {},
     "outputs": [],
     "prompt_number": 11
    },
    {
     "cell_type": "code",
     "collapsed": false,
     "input": [
      "alpha = 0.1\n",
      "ridge = Ridge(alpha=alpha)\n",
      "\n",
      "y_pred_ridge = ridge.fit(X_train, y_train).predict(X_test)\n",
      "\n",
      "r2_score_ridge = r2_score(y_test, y_pred_ridge)\n",
      "print(r2_score_ridge)"
     ],
     "language": "python",
     "metadata": {},
     "outputs": [
      {
       "output_type": "stream",
       "stream": "stdout",
       "text": [
        "0.693117064458\n"
       ]
      }
     ],
     "prompt_number": 12
    },
    {
     "cell_type": "markdown",
     "metadata": {},
     "source": [
      "###Ok, lets try to MSE"
     ]
    },
    {
     "cell_type": "code",
     "collapsed": false,
     "input": [
      "mse_ridge = mean_squared_error(y_test, y_pred_ridge)\n",
      "print(mse_ridge)"
     ],
     "language": "python",
     "metadata": {},
     "outputs": [
      {
       "output_type": "stream",
       "stream": "stdout",
       "text": [
        "27.1530059421\n"
       ]
      }
     ],
     "prompt_number": 13
    },
    {
     "cell_type": "markdown",
     "metadata": {},
     "source": [
      "#RMSE?"
     ]
    },
    {
     "cell_type": "code",
     "collapsed": false,
     "input": [
      "rMSE_ridge = math.sqrt(mse_ridge)\n",
      "print(rMSE_ridge)"
     ],
     "language": "python",
     "metadata": {},
     "outputs": [
      {
       "output_type": "stream",
       "stream": "stdout",
       "text": [
        "5.21085462685\n"
       ]
      }
     ],
     "prompt_number": 14
    },
    {
     "cell_type": "markdown",
     "metadata": {},
     "source": [
      "###Lets try Lasso"
     ]
    },
    {
     "cell_type": "code",
     "collapsed": false,
     "input": [
      "from sklearn.linear_model import Lasso"
     ],
     "language": "python",
     "metadata": {},
     "outputs": [],
     "prompt_number": 15
    },
    {
     "cell_type": "code",
     "collapsed": false,
     "input": [
      "alpha = 0.1\n",
      "usingLasso = Lasso(alpha=alpha)\n",
      "\n",
      "y_pred_lasso = usingLasso.fit(X_train, y_train).predict(X_test)\n",
      "\n",
      "r2_score_lasso = r2_score(y_test, y_pred_ridge)\n",
      "print(r2_score_lasso)"
     ],
     "language": "python",
     "metadata": {},
     "outputs": [
      {
       "output_type": "stream",
       "stream": "stdout",
       "text": [
        "0.693117064458\n"
       ]
      }
     ],
     "prompt_number": 16
    },
    {
     "cell_type": "markdown",
     "metadata": {},
     "source": [
      "###Ok, lets try to MSE"
     ]
    },
    {
     "cell_type": "code",
     "collapsed": false,
     "input": [
      "mse_lasso = mean_squared_error(y_test, y_pred_lasso)\n",
      "print(mse_lasso)"
     ],
     "language": "python",
     "metadata": {},
     "outputs": [
      {
       "output_type": "stream",
       "stream": "stdout",
       "text": [
        "27.9734581948\n"
       ]
      }
     ],
     "prompt_number": 17
    },
    {
     "cell_type": "markdown",
     "metadata": {},
     "source": [
      "###RMSE LASSO"
     ]
    },
    {
     "cell_type": "code",
     "collapsed": false,
     "input": [
      "rMSE_lasso = math.sqrt(mse_lasso)\n",
      "print(rMSE_lasso)"
     ],
     "language": "python",
     "metadata": {},
     "outputs": [
      {
       "output_type": "stream",
       "stream": "stdout",
       "text": [
        "5.28899406265\n"
       ]
      }
     ],
     "prompt_number": 18
    },
    {
     "cell_type": "code",
     "collapsed": false,
     "input": [],
     "language": "python",
     "metadata": {},
     "outputs": []
    }
   ],
   "metadata": {}
  }
 ]
}